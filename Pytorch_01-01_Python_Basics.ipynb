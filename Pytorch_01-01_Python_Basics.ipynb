{
  "nbformat": 4,
  "nbformat_minor": 0,
  "metadata": {
    "kernelspec": {
      "display_name": "Python 3",
      "language": "python",
      "name": "python3"
    },
    "language_info": {
      "codemirror_mode": {
        "name": "ipython",
        "version": 3
      },
      "file_extension": ".py",
      "mimetype": "text/x-python",
      "name": "python",
      "nbconvert_exporter": "python",
      "pygments_lexer": "ipython3",
      "version": "3.6.9"
    },
    "colab": {
      "name": "Python Basics_ans.ipynb",
      "provenance": []
    }
  },
  "cells": [
    {
      "cell_type": "markdown",
      "metadata": {
        "id": "VDulCITjieYK",
        "colab_type": "text"
      },
      "source": [
        "### Basic Data Types\n",
        "\n",
        "In programming terminology, they are also commonly known as literals. Literals can be of different types for e.g 1, 11  are of type int, 3.14 is a float and \"hello\" is a string. Remember that in Python everything is object even basic data types like int, float, string, we will elaborate more on this in later chapters.\n",
        "\n",
        "In Python, you don't need to declare types of variables ahead of time. The interpreter automatically detects the type of the variable by the data it contains. To assign value to a variable equal sign (=) is used. The = sign is also known as the assignment operator."
      ]
    },
    {
      "cell_type": "code",
      "metadata": {
        "id": "OzXpc0-NieYL",
        "colab_type": "code",
        "colab": {}
      },
      "source": [
        "# The following are some examples of variable declaration:\n",
        "\n",
        "x = 100                       # x is integer\n",
        "pi = 3.14                     # pi is float\n",
        "empname = \"python is great\"   # empname is string\n",
        "is_true = True               # is_true is bool\n",
        "\n",
        "a = b = c = 100               # this statement assign 100 to c, b and a."
      ],
      "execution_count": null,
      "outputs": []
    },
    {
      "cell_type": "code",
      "metadata": {
        "id": "6-QKTv6nieYP",
        "colab_type": "code",
        "colab": {},
        "outputId": "5d68dfa0-ab7c-421f-cc7b-772106f0d99a"
      },
      "source": [
        "# python assignments\n",
        "\n",
        "c, d = 3, 4        # unpacking\n",
        "x = y = z = 0      # multiple assignment\n",
        "e = 3.5; f = 5.6   # semicolon seperates the simple statement on the same line\n",
        "e, f = f, e        # value exchange\n",
        "a, *b = [1, 2, 3, 4, 5] # extended unpacking\n",
        "\n",
        "print(a, b, sep='\\n')"
      ],
      "execution_count": null,
      "outputs": [
        {
          "output_type": "stream",
          "text": [
            "1\n",
            "[2, 3, 4, 5]\n"
          ],
          "name": "stdout"
        }
      ]
    },
    {
      "cell_type": "code",
      "metadata": {
        "id": "MmtM-g2zieYS",
        "colab_type": "code",
        "colab": {},
        "outputId": "7897dcd8-af1d-4bbb-ec28-e7614f6eeab4"
      },
      "source": [
        "# str() method returns a string version of object\n",
        "str(12345)"
      ],
      "execution_count": null,
      "outputs": [
        {
          "output_type": "execute_result",
          "data": {
            "text/plain": [
              "'12345'"
            ]
          },
          "metadata": {
            "tags": []
          },
          "execution_count": 3
        }
      ]
    },
    {
      "cell_type": "code",
      "metadata": {
        "id": "PEzjF-9XieYV",
        "colab_type": "code",
        "colab": {},
        "outputId": "969089db-4558-482f-ae6e-a2dd36a640b3"
      },
      "source": [
        "# check data type\n",
        "a = 1\n",
        "type(a)"
      ],
      "execution_count": null,
      "outputs": [
        {
          "output_type": "execute_result",
          "data": {
            "text/plain": [
              "int"
            ]
          },
          "metadata": {
            "tags": []
          },
          "execution_count": 4
        }
      ]
    },
    {
      "cell_type": "code",
      "metadata": {
        "id": "5NBEdYD6ieYY",
        "colab_type": "code",
        "colab": {},
        "outputId": "b22c0d81-da60-458e-b455-67451e66f9f6"
      },
      "source": [
        "# Augmented assignment operators\n",
        "# +=, -=. *=, /=, //=, &=. **=. >>=, <<=, &=, ^=, |=\n",
        "a += 2\n",
        "print(a)"
      ],
      "execution_count": null,
      "outputs": [
        {
          "output_type": "stream",
          "text": [
            "3\n"
          ],
          "name": "stdout"
        }
      ]
    },
    {
      "cell_type": "code",
      "metadata": {
        "id": "iBQ2uTxzieYb",
        "colab_type": "code",
        "colab": {},
        "outputId": "8ace044e-c6ae-44a1-9b02-8cf5f2500d00"
      },
      "source": [
        "# format method\n",
        "# format(value, format_spec)\n",
        "\n",
        "print(format(3.141592, '10.3f'))  # input spec argument as string format"
      ],
      "execution_count": null,
      "outputs": [
        {
          "output_type": "stream",
          "text": [
            "     3.142\n"
          ],
          "name": "stdout"
        }
      ]
    },
    {
      "cell_type": "code",
      "metadata": {
        "id": "ehD187t-ieYe",
        "colab_type": "code",
        "colab": {},
        "outputId": "266aa9e8-b29e-443d-a941-40d2048ee8b4"
      },
      "source": [
        "# fancier usage of format\n",
        "\n",
        "'Name : {0}, Student_ID : {1}'.format('your name', 1234)"
      ],
      "execution_count": null,
      "outputs": [
        {
          "output_type": "execute_result",
          "data": {
            "text/plain": [
              "'Name : your name, Student_ID : 1234'"
            ]
          },
          "metadata": {
            "tags": []
          },
          "execution_count": 7
        }
      ]
    },
    {
      "cell_type": "code",
      "metadata": {
        "scrolled": true,
        "id": "roYsq5cBieYh",
        "colab_type": "code",
        "colab": {},
        "outputId": "8942ec54-83ba-4e35-f6ed-852f17ec5679"
      },
      "source": [
        "# want to know bool?\n",
        "# try to print the following\n",
        "\n",
        "bool(3)  # True\n",
        "bool(0)  # False\n",
        "bool([]) # False"
      ],
      "execution_count": null,
      "outputs": [
        {
          "output_type": "execute_result",
          "data": {
            "text/plain": [
              "False"
            ]
          },
          "metadata": {
            "tags": []
          },
          "execution_count": 8
        }
      ]
    },
    {
      "cell_type": "markdown",
      "metadata": {
        "id": "BpLlKN3jieYj",
        "colab_type": "text"
      },
      "source": [
        "### String\n",
        "\n",
        "   1. There are six sequence types in python: strings, Unicode strings, lists, tuples, buffers, and xrange objects.\n",
        "   1. Some common operations for the sequence type object can work on both mutable and immutable sequences."
      ]
    },
    {
      "cell_type": "code",
      "metadata": {
        "id": "M3ZiS_IKieYk",
        "colab_type": "code",
        "colab": {},
        "outputId": "9780a2ae-376f-4e7e-9268-d223c58449b9"
      },
      "source": [
        "# string basics & operations\n",
        "\n",
        "s = 'Machine Learning'\n",
        "len(s)  # length of the string"
      ],
      "execution_count": null,
      "outputs": [
        {
          "output_type": "execute_result",
          "data": {
            "text/plain": [
              "16"
            ]
          },
          "metadata": {
            "tags": []
          },
          "execution_count": 9
        }
      ]
    },
    {
      "cell_type": "code",
      "metadata": {
        "id": "ykjX2j6UieYm",
        "colab_type": "code",
        "colab": {},
        "outputId": "d1dd30f7-a1cc-4711-fca1-8bdd393f9960"
      },
      "source": [
        "'Machine' in s  # check whether the substring is in s"
      ],
      "execution_count": null,
      "outputs": [
        {
          "output_type": "execute_result",
          "data": {
            "text/plain": [
              "True"
            ]
          },
          "metadata": {
            "tags": []
          },
          "execution_count": 10
        }
      ]
    },
    {
      "cell_type": "code",
      "metadata": {
        "id": "aJ9YRiZbieYp",
        "colab_type": "code",
        "colab": {},
        "outputId": "4255739b-530c-46e3-dcd5-b87c5d3e9d3d"
      },
      "source": [
        "# Return a copy of the string with all the cased characters converted to uppercase\n",
        "s.upper()"
      ],
      "execution_count": null,
      "outputs": [
        {
          "output_type": "execute_result",
          "data": {
            "text/plain": [
              "'MACHINE LEARNING'"
            ]
          },
          "metadata": {
            "tags": []
          },
          "execution_count": 11
        }
      ]
    },
    {
      "cell_type": "code",
      "metadata": {
        "id": "ppoW-hkhieYs",
        "colab_type": "code",
        "colab": {},
        "outputId": "b48cba84-d885-4d15-ae6b-4428842f5284"
      },
      "source": [
        "# convert to lowercase\n",
        "s.lower()"
      ],
      "execution_count": null,
      "outputs": [
        {
          "output_type": "execute_result",
          "data": {
            "text/plain": [
              "'machine learning'"
            ]
          },
          "metadata": {
            "tags": []
          },
          "execution_count": 12
        }
      ]
    },
    {
      "cell_type": "code",
      "metadata": {
        "id": "ziwvqAdTieYu",
        "colab_type": "code",
        "colab": {},
        "outputId": "98cc0333-2621-46c5-a411-fe10e036f71a"
      },
      "source": [
        "# Return a list of the words in the string, using sep as the delimiter string\n",
        "s.split(sep='e')"
      ],
      "execution_count": null,
      "outputs": [
        {
          "output_type": "execute_result",
          "data": {
            "text/plain": [
              "['Machin', ' L', 'arning']"
            ]
          },
          "metadata": {
            "tags": []
          },
          "execution_count": 13
        }
      ]
    },
    {
      "cell_type": "code",
      "metadata": {
        "id": "sKvdzxjlieYx",
        "colab_type": "code",
        "colab": {},
        "outputId": "2879e99f-6266-4c65-f39b-841a489fbc6d"
      },
      "source": [
        "# If sep is not specified or is None, runs of consecutive whitespace are regarded as a single separator\n",
        "s.split()"
      ],
      "execution_count": null,
      "outputs": [
        {
          "output_type": "execute_result",
          "data": {
            "text/plain": [
              "['Machine', 'Learning']"
            ]
          },
          "metadata": {
            "tags": []
          },
          "execution_count": 14
        }
      ]
    },
    {
      "cell_type": "code",
      "metadata": {
        "id": "UideMvE_ieYz",
        "colab_type": "code",
        "colab": {},
        "outputId": "4d57a357-05e3-48a2-824c-b4e96f9b6791"
      },
      "source": [
        "# Return the lowest index in the string where substring is found within the slice s[start:end]\n",
        "s.find('ear')"
      ],
      "execution_count": null,
      "outputs": [
        {
          "output_type": "execute_result",
          "data": {
            "text/plain": [
              "9"
            ]
          },
          "metadata": {
            "tags": []
          },
          "execution_count": 15
        }
      ]
    },
    {
      "cell_type": "code",
      "metadata": {
        "id": "nRqTna8-ieY1",
        "colab_type": "code",
        "colab": {},
        "outputId": "5a68dc4e-547c-4f2c-a715-8a099cb36f78"
      },
      "source": [
        "# concatenate two sequences a and b\n",
        "a = 'Machine'\n",
        "b = 'Learning'\n",
        "a + b"
      ],
      "execution_count": null,
      "outputs": [
        {
          "output_type": "execute_result",
          "data": {
            "text/plain": [
              "'MachineLearning'"
            ]
          },
          "metadata": {
            "tags": []
          },
          "execution_count": 16
        }
      ]
    },
    {
      "cell_type": "code",
      "metadata": {
        "id": "CkdwyukqieY4",
        "colab_type": "code",
        "colab": {},
        "outputId": "b59a9c74-987b-49bb-fbc3-c4868360c765"
      },
      "source": [
        "# add sequence a with itself n times\n",
        "a * 3"
      ],
      "execution_count": null,
      "outputs": [
        {
          "output_type": "execute_result",
          "data": {
            "text/plain": [
              "'MachineMachineMachine'"
            ]
          },
          "metadata": {
            "tags": []
          },
          "execution_count": 17
        }
      ]
    },
    {
      "cell_type": "code",
      "metadata": {
        "id": "YIlWU_c_ieY6",
        "colab_type": "code",
        "colab": {},
        "outputId": "2840c92e-4b77-4c61-98ec-470972a3692a"
      },
      "source": [
        "# indexing; i'th item of the sequence\n",
        "s[9]  # seq[i]"
      ],
      "execution_count": null,
      "outputs": [
        {
          "output_type": "execute_result",
          "data": {
            "text/plain": [
              "'e'"
            ]
          },
          "metadata": {
            "tags": []
          },
          "execution_count": 18
        }
      ]
    },
    {
      "cell_type": "code",
      "metadata": {
        "id": "VJS2R7YnieY8",
        "colab_type": "code",
        "colab": {},
        "outputId": "582e24d4-0be4-4cec-8563-9047ab4edc54"
      },
      "source": [
        "# slicing; slice sequence from index i to j with step k\n",
        "s[2:10:2]  # seq[i:j:k]"
      ],
      "execution_count": null,
      "outputs": [
        {
          "output_type": "execute_result",
          "data": {
            "text/plain": [
              "'cieL'"
            ]
          },
          "metadata": {
            "tags": []
          },
          "execution_count": 19
        }
      ]
    },
    {
      "cell_type": "code",
      "metadata": {
        "id": "szUxif-uieZA",
        "colab_type": "code",
        "colab": {},
        "outputId": "1eb10663-7596-4dc5-b652-49b87f17cc0a"
      },
      "source": [
        "# string is immutable data type\n",
        "s[0] = 'm'"
      ],
      "execution_count": null,
      "outputs": [
        {
          "output_type": "error",
          "ename": "TypeError",
          "evalue": "'str' object does not support item assignment",
          "traceback": [
            "\u001b[0;31m---------------------------------------------------------------------------\u001b[0m",
            "\u001b[0;31mTypeError\u001b[0m                                 Traceback (most recent call last)",
            "\u001b[0;32m<ipython-input-20-61a6123a244c>\u001b[0m in \u001b[0;36m<module>\u001b[0;34m\u001b[0m\n\u001b[1;32m      1\u001b[0m \u001b[0;31m# string is immutable data type\u001b[0m\u001b[0;34m\u001b[0m\u001b[0;34m\u001b[0m\u001b[0;34m\u001b[0m\u001b[0m\n\u001b[0;32m----> 2\u001b[0;31m \u001b[0ms\u001b[0m\u001b[0;34m[\u001b[0m\u001b[0;36m0\u001b[0m\u001b[0;34m]\u001b[0m \u001b[0;34m=\u001b[0m \u001b[0;34m'm'\u001b[0m\u001b[0;34m\u001b[0m\u001b[0;34m\u001b[0m\u001b[0m\n\u001b[0m",
            "\u001b[0;31mTypeError\u001b[0m: 'str' object does not support item assignment"
          ]
        }
      ]
    },
    {
      "cell_type": "code",
      "metadata": {
        "id": "ElZ4Fe2eieZC",
        "colab_type": "code",
        "colab": {},
        "outputId": "52470a9e-9873-4137-fd2b-aad6627aef3e"
      },
      "source": [
        "# change the string? -> use slicing, create new object of string and reassign\n",
        "s = 'm' + s[1:]\n",
        "s"
      ],
      "execution_count": null,
      "outputs": [
        {
          "output_type": "execute_result",
          "data": {
            "text/plain": [
              "'machine Learning'"
            ]
          },
          "metadata": {
            "tags": []
          },
          "execution_count": 21
        }
      ]
    },
    {
      "cell_type": "markdown",
      "metadata": {
        "id": "0lqZr_nsieZF",
        "colab_type": "text"
      },
      "source": [
        "### Python Numbers\n",
        "\n",
        "This data type supports only numerical values like 1, 31.4, -1000, 0.000023, 88888888\n",
        "\n",
        "Python supports 3 different numerical types.\n",
        "\n",
        "    1. int - for integer values like 1, 100, 2255, -999999, 0, 12345678\n",
        "    2. float - for floating-point values like 2.3, 3.14, 2.71, -11.0\n",
        "    3. complex - for complex numbers like 3+2j, -2+2.3j, 10j, 4.5+3.14j"
      ]
    },
    {
      "cell_type": "code",
      "metadata": {
        "id": "CMtG89jtieZF",
        "colab_type": "code",
        "colab": {},
        "outputId": "5961391c-6df3-47e8-8415-4230f16c16e1"
      },
      "source": [
        "# int type\n",
        "\n",
        "a = 1234\n",
        "type(a)"
      ],
      "execution_count": null,
      "outputs": [
        {
          "output_type": "execute_result",
          "data": {
            "text/plain": [
              "int"
            ]
          },
          "metadata": {
            "tags": []
          },
          "execution_count": 22
        }
      ]
    },
    {
      "cell_type": "code",
      "metadata": {
        "id": "lHLQPvQBieZH",
        "colab_type": "code",
        "colab": {},
        "outputId": "e7075a93-e576-4427-d2fe-deeaa8423aee"
      },
      "source": [
        "isinstance(a, int) # check data type"
      ],
      "execution_count": null,
      "outputs": [
        {
          "output_type": "execute_result",
          "data": {
            "text/plain": [
              "True"
            ]
          },
          "metadata": {
            "tags": []
          },
          "execution_count": 23
        }
      ]
    },
    {
      "cell_type": "code",
      "metadata": {
        "id": "9FW7nlFlieZJ",
        "colab_type": "code",
        "colab": {},
        "outputId": "a9bd3f63-543c-4cc3-ef27-7f4d5d9504de"
      },
      "source": [
        "# int() method :  conver to int data type\n",
        "int(3.2)"
      ],
      "execution_count": null,
      "outputs": [
        {
          "output_type": "execute_result",
          "data": {
            "text/plain": [
              "3"
            ]
          },
          "metadata": {
            "tags": []
          },
          "execution_count": 24
        }
      ]
    },
    {
      "cell_type": "code",
      "metadata": {
        "id": "biqrAM2bieZM",
        "colab_type": "code",
        "colab": {},
        "outputId": "bebd9fbe-82d4-4f65-d8cb-6edcd8e79d5d"
      },
      "source": [
        "int(-3.9)"
      ],
      "execution_count": null,
      "outputs": [
        {
          "output_type": "execute_result",
          "data": {
            "text/plain": [
              "-3"
            ]
          },
          "metadata": {
            "tags": []
          },
          "execution_count": 25
        }
      ]
    },
    {
      "cell_type": "code",
      "metadata": {
        "id": "xarun8JdieZO",
        "colab_type": "code",
        "colab": {},
        "outputId": "73a63442-aab8-4eac-f66d-81395daa7bc7"
      },
      "source": [
        "int('1234')"
      ],
      "execution_count": null,
      "outputs": [
        {
          "output_type": "execute_result",
          "data": {
            "text/plain": [
              "1234"
            ]
          },
          "metadata": {
            "tags": []
          },
          "execution_count": 26
        }
      ]
    },
    {
      "cell_type": "code",
      "metadata": {
        "id": "flXHsg_VieZR",
        "colab_type": "code",
        "colab": {},
        "outputId": "c7bc3278-2f09-4ae7-afa1-5531deb81bd4"
      },
      "source": [
        "# try to convert string type of float to int type\n",
        "int(float('123.45'))"
      ],
      "execution_count": null,
      "outputs": [
        {
          "output_type": "execute_result",
          "data": {
            "text/plain": [
              "123"
            ]
          },
          "metadata": {
            "tags": []
          },
          "execution_count": 27
        }
      ]
    },
    {
      "cell_type": "code",
      "metadata": {
        "id": "2wgB0MYFieZT",
        "colab_type": "code",
        "colab": {},
        "outputId": "bf004816-f2a9-4e23-de11-f46ee455a69d"
      },
      "source": [
        "# convert int type to other data type\n",
        "a = 1234\n",
        "float(a)"
      ],
      "execution_count": null,
      "outputs": [
        {
          "output_type": "execute_result",
          "data": {
            "text/plain": [
              "1234.0"
            ]
          },
          "metadata": {
            "tags": []
          },
          "execution_count": 28
        }
      ]
    },
    {
      "cell_type": "code",
      "metadata": {
        "id": "c135_3deieZW",
        "colab_type": "code",
        "colab": {},
        "outputId": "c075635e-1416-4acb-b1a0-99e5141678c9"
      },
      "source": [
        "str(a)"
      ],
      "execution_count": null,
      "outputs": [
        {
          "output_type": "execute_result",
          "data": {
            "text/plain": [
              "'1234'"
            ]
          },
          "metadata": {
            "tags": []
          },
          "execution_count": 29
        }
      ]
    },
    {
      "cell_type": "code",
      "metadata": {
        "id": "M16p2T0IieZY",
        "colab_type": "code",
        "colab": {},
        "outputId": "2f1e25f2-8e7e-4a63-f428-ba374f8bd2e7"
      },
      "source": [
        "complex(a)"
      ],
      "execution_count": null,
      "outputs": [
        {
          "output_type": "execute_result",
          "data": {
            "text/plain": [
              "(1234+0j)"
            ]
          },
          "metadata": {
            "tags": []
          },
          "execution_count": 30
        }
      ]
    },
    {
      "cell_type": "code",
      "metadata": {
        "id": "JugOdROwieZa",
        "colab_type": "code",
        "colab": {},
        "outputId": "dd4581b2-f098-4baa-96b2-f0d1b587e7fc"
      },
      "source": [
        "# float type\n",
        "\n",
        "a = 3.14\n",
        "isinstance(a, float)"
      ],
      "execution_count": null,
      "outputs": [
        {
          "output_type": "execute_result",
          "data": {
            "text/plain": [
              "True"
            ]
          },
          "metadata": {
            "tags": []
          },
          "execution_count": 31
        }
      ]
    },
    {
      "cell_type": "code",
      "metadata": {
        "id": "zwVLOynNieZd",
        "colab_type": "code",
        "colab": {},
        "outputId": "0bf91c87-11d2-4683-db49-f355c39828b5"
      },
      "source": [
        "# we can express infinity as follows\n",
        "float('inf'), float('-inf')"
      ],
      "execution_count": null,
      "outputs": [
        {
          "output_type": "execute_result",
          "data": {
            "text/plain": [
              "(inf, -inf)"
            ]
          },
          "metadata": {
            "tags": []
          },
          "execution_count": 32
        }
      ]
    },
    {
      "cell_type": "code",
      "metadata": {
        "id": "8g8MDqpPieZf",
        "colab_type": "code",
        "colab": {},
        "outputId": "368c7adc-5aa6-4827-ffb8-9159b6c9eccc"
      },
      "source": [
        "a.is_integer()"
      ],
      "execution_count": null,
      "outputs": [
        {
          "output_type": "execute_result",
          "data": {
            "text/plain": [
              "False"
            ]
          },
          "metadata": {
            "tags": []
          },
          "execution_count": 33
        }
      ]
    },
    {
      "cell_type": "code",
      "metadata": {
        "id": "w93y-pFdieZh",
        "colab_type": "code",
        "colab": {},
        "outputId": "515481f0-8337-47cc-ab4f-33376567ae71"
      },
      "source": [
        "a = 3.0  # float\n",
        "a.is_integer()"
      ],
      "execution_count": null,
      "outputs": [
        {
          "output_type": "execute_result",
          "data": {
            "text/plain": [
              "True"
            ]
          },
          "metadata": {
            "tags": []
          },
          "execution_count": 34
        }
      ]
    },
    {
      "cell_type": "code",
      "metadata": {
        "id": "EP5kdmXZieZj",
        "colab_type": "code",
        "colab": {},
        "outputId": "0d0c92b4-e3d6-468d-acb5-93990f7fb488"
      },
      "source": [
        "# complex type\n",
        "\n",
        "a = 3 + 4j\n",
        "b = 2 - 3j\n",
        "a * b"
      ],
      "execution_count": null,
      "outputs": [
        {
          "output_type": "execute_result",
          "data": {
            "text/plain": [
              "(18-1j)"
            ]
          },
          "metadata": {
            "tags": []
          },
          "execution_count": 35
        }
      ]
    },
    {
      "cell_type": "code",
      "metadata": {
        "id": "yS5uLX1RieZl",
        "colab_type": "code",
        "colab": {},
        "outputId": "5f3d75d1-024c-4521-a079-2010b062b6a3"
      },
      "source": [
        "# call attribute of real part\n",
        "a.real"
      ],
      "execution_count": null,
      "outputs": [
        {
          "output_type": "execute_result",
          "data": {
            "text/plain": [
              "3.0"
            ]
          },
          "metadata": {
            "tags": []
          },
          "execution_count": 36
        }
      ]
    },
    {
      "cell_type": "code",
      "metadata": {
        "id": "RTmJU1-sieZo",
        "colab_type": "code",
        "colab": {},
        "outputId": "382570d3-2e26-46fe-d90c-ef089be35375"
      },
      "source": [
        "# call attribute of imaginary part\n",
        "a.imag"
      ],
      "execution_count": null,
      "outputs": [
        {
          "output_type": "execute_result",
          "data": {
            "text/plain": [
              "4.0"
            ]
          },
          "metadata": {
            "tags": []
          },
          "execution_count": 37
        }
      ]
    },
    {
      "cell_type": "code",
      "metadata": {
        "id": "Iy630_h_ieZq",
        "colab_type": "code",
        "colab": {},
        "outputId": "4749f07d-2900-4514-e536-5a9cd366f35a"
      },
      "source": [
        "# convert to conjugate \n",
        "a.conjugate()"
      ],
      "execution_count": null,
      "outputs": [
        {
          "output_type": "execute_result",
          "data": {
            "text/plain": [
              "(3-4j)"
            ]
          },
          "metadata": {
            "tags": []
          },
          "execution_count": 38
        }
      ]
    },
    {
      "cell_type": "code",
      "metadata": {
        "id": "85DzHRwPieZs",
        "colab_type": "code",
        "colab": {},
        "outputId": "483107da-b7e7-46ec-9009-c5527d8e05f2"
      },
      "source": [
        "# arithmetic operator\n",
        "\n",
        "a = 10; b = 20\n",
        "\n",
        "print(a + b) # addition\n",
        "print(a - b) # subtraction\n",
        "print(a * b) # multiplication\n",
        "print(b / a) # division\n",
        "print(b & a) # modulus\n",
        "print(a ** b) # sxponent\n",
        "print(b // a) # floor division"
      ],
      "execution_count": null,
      "outputs": [
        {
          "output_type": "stream",
          "text": [
            "30\n",
            "-10\n",
            "200\n",
            "2.0\n",
            "0\n",
            "100000000000000000000\n",
            "2\n"
          ],
          "name": "stdout"
        }
      ]
    },
    {
      "cell_type": "code",
      "metadata": {
        "id": "qc4A-xSAieZu",
        "colab_type": "code",
        "colab": {},
        "outputId": "4531aa61-1c02-4a05-df9e-fb496273fbe6"
      },
      "source": [
        "# comparison operators\n",
        "\n",
        "print(a == b) # check whether the two operands are equal\n",
        "print(a != b) # check whether the two operands are not equal\n",
        "print(a > b) # check whether the left operand is greater than the right operand\n",
        "print(a < b) # check whether the left operand is less than the right operand\n",
        "print(a >= b) # check whether the left operand is greater than or equal to the right operand\n",
        "print(a <= b) # check whether the left operand is less than or equal to the right operand"
      ],
      "execution_count": null,
      "outputs": [
        {
          "output_type": "stream",
          "text": [
            "False\n",
            "True\n",
            "False\n",
            "True\n",
            "False\n",
            "True\n"
          ],
          "name": "stdout"
        }
      ]
    },
    {
      "cell_type": "code",
      "metadata": {
        "id": "7EQUe3SxieZw",
        "colab_type": "code",
        "colab": {},
        "outputId": "9697ad0a-b19a-49a0-c6e6-2cd5bd55af5a"
      },
      "source": [
        "# logical operators\n",
        "# not necessarily return bool type\n",
        "\n",
        "print(a and b)  # If both the operands are true then condition becomes true\n",
        "print(a or b)   # If any of the two operands are non-zero then condition becomes true\n",
        "print(not (a or b))  # Used to reverse the logical state of its operand."
      ],
      "execution_count": null,
      "outputs": [
        {
          "output_type": "stream",
          "text": [
            "20\n",
            "10\n",
            "False\n"
          ],
          "name": "stdout"
        }
      ]
    },
    {
      "cell_type": "markdown",
      "metadata": {
        "id": "_tuS291nieZ0",
        "colab_type": "text"
      },
      "source": [
        "### Categorization of Data Types\n",
        "\n",
        "\n",
        "**1. Direct type** : supported type of python number\n",
        "            ex) int, float, complex\n",
        "\n",
        "**2. Sequence type** : any ordered collection of objects whose contents can be accessed via “indexing\" \n",
        "            ex) list, str, tuple, bytes, bytearray, range\n",
        "\n",
        "**3. Mapping type** : object that maps values of one type (the key type) to arbitrary objects, \n",
        "            ex) dict\n",
        "\n",
        "**4. Set type** : unordered collections of unique elements\n",
        "            ex) set, frozenset"
      ]
    },
    {
      "cell_type": "markdown",
      "metadata": {
        "id": "NbZ5NusCieZ0",
        "colab_type": "text"
      },
      "source": [
        "### Mutable & Immutable\n",
        "\n",
        "**1. Mutable** : Objects whose value can change\n",
        "            ex) list, dict, set\n",
        "\n",
        "**2. Immutable** : objects whose value is unchangeable once they are created\n",
        "            ex) int, float, complex, str, tuple, frozenset"
      ]
    },
    {
      "cell_type": "markdown",
      "metadata": {
        "id": "pkItjhq-ieZ1",
        "colab_type": "text"
      },
      "source": [
        "### Scalar(Literal) & Container\n",
        "\n",
        "**1. Literal/Scalar type** : a object has a specific and concrete value \n",
        "            ex) str, bytes, bytearray, int, float, complex\n",
        "            \n",
        "**2. Container type** : any object that holds an arbitrary number of other objects \n",
        "            ex) list, tuple, dict, set, frozenset"
      ]
    },
    {
      "cell_type": "markdown",
      "metadata": {
        "id": "kO6DRJigieZ1",
        "colab_type": "text"
      },
      "source": [
        "### List\n",
        "\n",
        "1. As opposed to data types such as int, bool, float, str, a list is a compound data type where you can group values together\n",
        "1. You can create a list with square brackets\n",
        "1. It is also possible for a list to contain different types within it as well"
      ]
    },
    {
      "cell_type": "code",
      "metadata": {
        "id": "BX7TGIeOieZ1",
        "colab_type": "code",
        "colab": {}
      },
      "source": [
        "# create empty list\n",
        "\n",
        "a = []\n",
        "a = list()"
      ],
      "execution_count": null,
      "outputs": []
    },
    {
      "cell_type": "code",
      "metadata": {
        "id": "mIZP7yU0ieZ3",
        "colab_type": "code",
        "colab": {},
        "outputId": "bc6a45a4-f218-46cd-cba8-2375b0fae635"
      },
      "source": [
        "# change the elements in list via indexing\n",
        "\n",
        "a = ['this', 'is', 'a', 'list']\n",
        "a[2] = 10\n",
        "a"
      ],
      "execution_count": null,
      "outputs": [
        {
          "output_type": "execute_result",
          "data": {
            "text/plain": [
              "['this', 'is', 10, 'list']"
            ]
          },
          "metadata": {
            "tags": []
          },
          "execution_count": 43
        }
      ]
    },
    {
      "cell_type": "code",
      "metadata": {
        "id": "j9EuuUBwieZ6",
        "colab_type": "code",
        "colab": {},
        "outputId": "d2eefb68-868a-439a-e1f3-e42597cda232"
      },
      "source": [
        "# delete element\n",
        "\n",
        "a[:2] = []\n",
        "a"
      ],
      "execution_count": null,
      "outputs": [
        {
          "output_type": "execute_result",
          "data": {
            "text/plain": [
              "[10, 'list']"
            ]
          },
          "metadata": {
            "tags": []
          },
          "execution_count": 44
        }
      ]
    },
    {
      "cell_type": "code",
      "metadata": {
        "id": "FfAAIt3iieZ-",
        "colab_type": "code",
        "colab": {},
        "outputId": "c3207e76-954a-4534-9e91-24f050cb75f7"
      },
      "source": [
        "# add element\n",
        "\n",
        "a[1:1] = [100, 1234]\n",
        "a"
      ],
      "execution_count": null,
      "outputs": [
        {
          "output_type": "execute_result",
          "data": {
            "text/plain": [
              "[10, 100, 1234, 'list']"
            ]
          },
          "metadata": {
            "tags": []
          },
          "execution_count": 45
        }
      ]
    },
    {
      "cell_type": "code",
      "metadata": {
        "id": "eMXYRGrhieaB",
        "colab_type": "code",
        "colab": {},
        "outputId": "9a468e40-16b1-44d0-f53f-100ebe87d2cc"
      },
      "source": [
        "# slicing from i to j with step k\n",
        "\n",
        "a[::2]  # slicing from start to end with step 2"
      ],
      "execution_count": null,
      "outputs": [
        {
          "output_type": "execute_result",
          "data": {
            "text/plain": [
              "[10, 1234]"
            ]
          },
          "metadata": {
            "tags": []
          },
          "execution_count": 46
        }
      ]
    },
    {
      "cell_type": "code",
      "metadata": {
        "id": "zfXVQsC6ieaD",
        "colab_type": "code",
        "colab": {},
        "outputId": "e757dc6a-68fc-424c-b80f-ccc0e247e7b9"
      },
      "source": [
        "# extended slice\n",
        "\n",
        "a[::2] = list(range(2))\n",
        "a"
      ],
      "execution_count": null,
      "outputs": [
        {
          "output_type": "execute_result",
          "data": {
            "text/plain": [
              "[0, 100, 1, 'list']"
            ]
          },
          "metadata": {
            "tags": []
          },
          "execution_count": 47
        }
      ]
    },
    {
      "cell_type": "code",
      "metadata": {
        "id": "jcgX947fieaE",
        "colab_type": "code",
        "colab": {},
        "outputId": "bea031dd-0d95-49b6-e5f2-621daa768171"
      },
      "source": [
        "# delete elements via del keyword\n",
        "\n",
        "del a[0]\n",
        "a"
      ],
      "execution_count": null,
      "outputs": [
        {
          "output_type": "execute_result",
          "data": {
            "text/plain": [
              "[100, 1, 'list']"
            ]
          },
          "metadata": {
            "tags": []
          },
          "execution_count": 48
        }
      ]
    },
    {
      "cell_type": "code",
      "metadata": {
        "id": "vlVxMircieaG",
        "colab_type": "code",
        "colab": {},
        "outputId": "4e060585-054e-4533-ca7b-b727eee61fea"
      },
      "source": [
        "del a[:2]\n",
        "a"
      ],
      "execution_count": null,
      "outputs": [
        {
          "output_type": "execute_result",
          "data": {
            "text/plain": [
              "['list']"
            ]
          },
          "metadata": {
            "tags": []
          },
          "execution_count": 49
        }
      ]
    },
    {
      "cell_type": "code",
      "metadata": {
        "id": "dP7ZsArUieaJ",
        "colab_type": "code",
        "colab": {},
        "outputId": "a3992ef5-125b-49ff-f7d3-1cac08469878"
      },
      "source": [
        "# nested list\n",
        "a = ['this', 'is', 'a', 'list']\n",
        "b = [1, a, 3]\n",
        "b"
      ],
      "execution_count": null,
      "outputs": [
        {
          "output_type": "execute_result",
          "data": {
            "text/plain": [
              "[1, ['this', 'is', 'a', 'list'], 3]"
            ]
          },
          "metadata": {
            "tags": []
          },
          "execution_count": 50
        }
      ]
    },
    {
      "cell_type": "code",
      "metadata": {
        "id": "raGtTNLTieaK",
        "colab_type": "code",
        "colab": {},
        "outputId": "c25b9543-687e-4884-ed6d-98fce09878dc"
      },
      "source": [
        "# indexing\n",
        "b[1][1]"
      ],
      "execution_count": null,
      "outputs": [
        {
          "output_type": "execute_result",
          "data": {
            "text/plain": [
              "'is'"
            ]
          },
          "metadata": {
            "tags": []
          },
          "execution_count": 51
        }
      ]
    },
    {
      "cell_type": "code",
      "metadata": {
        "id": "6xg-QOgBieaP",
        "colab_type": "code",
        "colab": {},
        "outputId": "975c7f0d-ff06-42cb-d387-ea1515da143e"
      },
      "source": [
        "# change element in nested list\n",
        "a[1] = 100\n",
        "b"
      ],
      "execution_count": null,
      "outputs": [
        {
          "output_type": "execute_result",
          "data": {
            "text/plain": [
              "[1, ['this', 100, 'a', 'list'], 3]"
            ]
          },
          "metadata": {
            "tags": []
          },
          "execution_count": 52
        }
      ]
    },
    {
      "cell_type": "code",
      "metadata": {
        "id": "bADGRnGOieaQ",
        "colab_type": "code",
        "colab": {},
        "outputId": "5611d82d-c28a-49d7-b629-8a43b9c9780d"
      },
      "source": [
        "# list method (inplace operation)\n",
        "\n",
        "a.append(123) # Add x at the end of the sequence\n",
        "a"
      ],
      "execution_count": null,
      "outputs": [
        {
          "output_type": "execute_result",
          "data": {
            "text/plain": [
              "['this', 100, 'a', 'list', 123]"
            ]
          },
          "metadata": {
            "tags": []
          },
          "execution_count": 53
        }
      ]
    },
    {
      "cell_type": "code",
      "metadata": {
        "id": "5hWQjq2eieaT",
        "colab_type": "code",
        "colab": {},
        "outputId": "f2daa34a-91b6-4f97-99f6-f66d379b62bc"
      },
      "source": [
        "a.insert(3, 1234) # Insert x at the position i, usage: seq.insert(i, x)\n",
        "a"
      ],
      "execution_count": null,
      "outputs": [
        {
          "output_type": "execute_result",
          "data": {
            "text/plain": [
              "['this', 100, 'a', 1234, 'list', 123]"
            ]
          },
          "metadata": {
            "tags": []
          },
          "execution_count": 54
        }
      ]
    },
    {
      "cell_type": "code",
      "metadata": {
        "id": "uI0Uar1rieaU",
        "colab_type": "code",
        "colab": {},
        "outputId": "1afa316b-1745-4b04-99ec-d960a10391a8"
      },
      "source": [
        "a.index(1234) # Index of the first occurrence of 1234"
      ],
      "execution_count": null,
      "outputs": [
        {
          "output_type": "execute_result",
          "data": {
            "text/plain": [
              "3"
            ]
          },
          "metadata": {
            "tags": []
          },
          "execution_count": 55
        }
      ]
    },
    {
      "cell_type": "code",
      "metadata": {
        "id": "ywTqB2D5ieaW",
        "colab_type": "code",
        "colab": {},
        "outputId": "87a5d184-8a88-4a3a-c9d6-4d0a0da25396"
      },
      "source": [
        "a.count(1234) # Count total number of elements in the sequence"
      ],
      "execution_count": null,
      "outputs": [
        {
          "output_type": "execute_result",
          "data": {
            "text/plain": [
              "1"
            ]
          },
          "metadata": {
            "tags": []
          },
          "execution_count": 56
        }
      ]
    },
    {
      "cell_type": "code",
      "metadata": {
        "id": "JtMdAO3cieaZ",
        "colab_type": "code",
        "colab": {},
        "outputId": "9a9073b3-fc62-4658-f630-fac61e1ab964"
      },
      "source": [
        "a.reverse() # Reverse the list, In-place operation\n",
        "a"
      ],
      "execution_count": null,
      "outputs": [
        {
          "output_type": "execute_result",
          "data": {
            "text/plain": [
              "[123, 'list', 1234, 'a', 100, 'this']"
            ]
          },
          "metadata": {
            "tags": []
          },
          "execution_count": 57
        }
      ]
    },
    {
      "cell_type": "code",
      "metadata": {
        "id": "08nWI0pjieaa",
        "colab_type": "code",
        "colab": {},
        "outputId": "a5c531af-58a3-4976-c29c-ad83bca6c0ca"
      },
      "source": [
        "a.remove('this') #Remove first occurrence of item \n",
        "a.remove('a')\n",
        "a.remove('list')\n",
        "a"
      ],
      "execution_count": null,
      "outputs": [
        {
          "output_type": "execute_result",
          "data": {
            "text/plain": [
              "[123, 1234, 100]"
            ]
          },
          "metadata": {
            "tags": []
          },
          "execution_count": 58
        }
      ]
    },
    {
      "cell_type": "code",
      "metadata": {
        "id": "ggpYvJxZieac",
        "colab_type": "code",
        "colab": {},
        "outputId": "a02a984a-4062-42e9-9e1b-28a243245ce4"
      },
      "source": [
        "# Sort the list, In-place operation\n",
        "# If you want to sort Out-of-place, use sorted()\n",
        "\n",
        "print(sorted(a))\n",
        "print(a)\n",
        "\n",
        "a.sort()\n",
        "print(a)"
      ],
      "execution_count": null,
      "outputs": [
        {
          "output_type": "stream",
          "text": [
            "[100, 123, 1234]\n",
            "[123, 1234, 100]\n",
            "[100, 123, 1234]\n"
          ],
          "name": "stdout"
        }
      ]
    },
    {
      "cell_type": "code",
      "metadata": {
        "id": "f-pu1r3wieae",
        "colab_type": "code",
        "colab": {},
        "outputId": "cceab354-c73a-4b03-b442-afff5ce6493c"
      },
      "source": [
        "a.pop() # return the item of last element and also remove from the list\n",
        "a.pop(0) # return the item of i'th item and remove\n",
        "a"
      ],
      "execution_count": null,
      "outputs": [
        {
          "output_type": "execute_result",
          "data": {
            "text/plain": [
              "[123]"
            ]
          },
          "metadata": {
            "tags": []
          },
          "execution_count": 60
        }
      ]
    },
    {
      "cell_type": "code",
      "metadata": {
        "id": "3ReQhDawieag",
        "colab_type": "code",
        "colab": {},
        "outputId": "863da696-8023-4494-fc68-5d40da5df134"
      },
      "source": [
        "a.extend([12345, 123456]) # extend list\n",
        "a"
      ],
      "execution_count": null,
      "outputs": [
        {
          "output_type": "execute_result",
          "data": {
            "text/plain": [
              "[123, 12345, 123456]"
            ]
          },
          "metadata": {
            "tags": []
          },
          "execution_count": 61
        }
      ]
    },
    {
      "cell_type": "code",
      "metadata": {
        "id": "F8P5XWH6ieah",
        "colab_type": "code",
        "colab": {},
        "outputId": "c696cfd4-0b9f-461f-9e64-846ef17e823c"
      },
      "source": [
        "# usage with for statement\n",
        "for i in a:\n",
        "    print(i)"
      ],
      "execution_count": null,
      "outputs": [
        {
          "output_type": "stream",
          "text": [
            "123\n",
            "12345\n",
            "123456\n"
          ],
          "name": "stdout"
        }
      ]
    },
    {
      "cell_type": "code",
      "metadata": {
        "id": "w7HXTYoxieaj",
        "colab_type": "code",
        "colab": {},
        "outputId": "fba4ea06-41d8-460b-afcb-1b5a03c07acc"
      },
      "source": [
        "# If reverse is True, iterable would be sorted in reverse(descending) order\n",
        "sorted(a, reverse=True)"
      ],
      "execution_count": null,
      "outputs": [
        {
          "output_type": "execute_result",
          "data": {
            "text/plain": [
              "[123456, 12345, 123]"
            ]
          },
          "metadata": {
            "tags": []
          },
          "execution_count": 63
        }
      ]
    },
    {
      "cell_type": "code",
      "metadata": {
        "id": "pJ0eHHXHieak",
        "colab_type": "code",
        "colab": {},
        "outputId": "753e95f9-daab-412b-cb9e-168013c5e583"
      },
      "source": [
        "# key argument is a function that serves as a key or a basis of sort comparison\n",
        "\n",
        "def func(a):\n",
        "    return a % 3\n",
        "\n",
        "sorted(a, key=func)"
      ],
      "execution_count": null,
      "outputs": [
        {
          "output_type": "execute_result",
          "data": {
            "text/plain": [
              "[123, 12345, 123456]"
            ]
          },
          "metadata": {
            "tags": []
          },
          "execution_count": 64
        }
      ]
    },
    {
      "cell_type": "code",
      "metadata": {
        "id": "QfpiA4_aieam",
        "colab_type": "code",
        "colab": {},
        "outputId": "e0ca2526-be91-4c9a-8252-b83f0bf2dfd3"
      },
      "source": [
        "L = 'Machine learning is my Life'.split()\n",
        "L"
      ],
      "execution_count": null,
      "outputs": [
        {
          "output_type": "execute_result",
          "data": {
            "text/plain": [
              "['Machine', 'learning', 'is', 'my', 'Life']"
            ]
          },
          "metadata": {
            "tags": []
          },
          "execution_count": 65
        }
      ]
    },
    {
      "cell_type": "code",
      "metadata": {
        "id": "TPbZ9O-tiean",
        "colab_type": "code",
        "colab": {},
        "outputId": "1be69698-78ee-4fe6-9fce-94aee23d4a16"
      },
      "source": [
        "sorted(L) # sorted as alphabetical order"
      ],
      "execution_count": null,
      "outputs": [
        {
          "output_type": "execute_result",
          "data": {
            "text/plain": [
              "['Life', 'Machine', 'is', 'learning', 'my']"
            ]
          },
          "metadata": {
            "tags": []
          },
          "execution_count": 66
        }
      ]
    },
    {
      "cell_type": "code",
      "metadata": {
        "id": "yBwLvIeMieap",
        "colab_type": "code",
        "colab": {},
        "outputId": "6dc3a5b1-6ee8-4063-b8a9-18d75a72788a"
      },
      "source": [
        "sorted(L, key=str.lower) # the strings pass to str.lower() method and sorted based on str.lower(word)"
      ],
      "execution_count": null,
      "outputs": [
        {
          "output_type": "execute_result",
          "data": {
            "text/plain": [
              "['is', 'learning', 'Life', 'Machine', 'my']"
            ]
          },
          "metadata": {
            "tags": []
          },
          "execution_count": 67
        }
      ]
    },
    {
      "cell_type": "code",
      "metadata": {
        "id": "b8ba7Ps2ieaq",
        "colab_type": "code",
        "colab": {},
        "outputId": "d71d5b5e-827a-40df-cd48-5bdacbe6b160"
      },
      "source": [
        "# using lambda function\n",
        "# lambda input: func(input)\n",
        "\n",
        "sorted(L, key=lambda x: len(x)) # sorted based on thier length"
      ],
      "execution_count": null,
      "outputs": [
        {
          "output_type": "execute_result",
          "data": {
            "text/plain": [
              "['is', 'my', 'Life', 'Machine', 'learning']"
            ]
          },
          "metadata": {
            "tags": []
          },
          "execution_count": 68
        }
      ]
    },
    {
      "cell_type": "markdown",
      "metadata": {
        "id": "jXwv8OVMiear",
        "colab_type": "text"
      },
      "source": [
        "### Tuple & Set\n",
        "\n",
        "1. Similar to Python lists, tuples are another standard data type that allows you to store values in a sequence    \n",
        "1. Similar to python list, **python tuple** is **ordered** data structure\n",
        "1. How tuple differs from a python list?\n",
        "    - **tuple** is **immutable** data type -> cannot change the element inplace\n",
        "\n",
        "\n",
        "1. **Python set** is **mutable** but **unordered** collection of **unique** element"
      ]
    },
    {
      "cell_type": "code",
      "metadata": {
        "id": "DDU3t0XEiear",
        "colab_type": "code",
        "colab": {}
      },
      "source": [
        "# create empty tuple\n",
        "t = ()"
      ],
      "execution_count": null,
      "outputs": []
    },
    {
      "cell_type": "code",
      "metadata": {
        "id": "g4P2RZqcieav",
        "colab_type": "code",
        "colab": {}
      },
      "source": [
        "# construct tuple\n",
        "\n",
        "t = (1,) # creating tuple with one element, need a comma\n",
        "t = 1,  # you can create without using parentheses\n",
        "t = (1, 2, 3)\n",
        "t = 1, 2, 3"
      ],
      "execution_count": null,
      "outputs": []
    },
    {
      "cell_type": "code",
      "metadata": {
        "id": "lEsYJgUwieax",
        "colab_type": "code",
        "colab": {},
        "outputId": "01952db4-3b7d-434d-d8fc-80ddb060b134"
      },
      "source": [
        "# tuple is immutable -> changing the value is not supported (similar to string)\n",
        "t[0] = 10"
      ],
      "execution_count": null,
      "outputs": [
        {
          "output_type": "error",
          "ename": "TypeError",
          "evalue": "'tuple' object does not support item assignment",
          "traceback": [
            "\u001b[0;31m---------------------------------------------------------------------------\u001b[0m",
            "\u001b[0;31mTypeError\u001b[0m                                 Traceback (most recent call last)",
            "\u001b[0;32m<ipython-input-74-0efea19bee79>\u001b[0m in \u001b[0;36m<module>\u001b[0;34m\u001b[0m\n\u001b[1;32m      1\u001b[0m \u001b[0;31m# tuple is immutable -> changing the value is not supported (similar to string)\u001b[0m\u001b[0;34m\u001b[0m\u001b[0;34m\u001b[0m\u001b[0;34m\u001b[0m\u001b[0m\n\u001b[0;32m----> 2\u001b[0;31m \u001b[0mt\u001b[0m\u001b[0;34m[\u001b[0m\u001b[0;36m0\u001b[0m\u001b[0;34m]\u001b[0m \u001b[0;34m=\u001b[0m \u001b[0;36m10\u001b[0m\u001b[0;34m\u001b[0m\u001b[0;34m\u001b[0m\u001b[0m\n\u001b[0m",
            "\u001b[0;31mTypeError\u001b[0m: 'tuple' object does not support item assignment"
          ]
        }
      ]
    },
    {
      "cell_type": "code",
      "metadata": {
        "id": "krQycEPdieaz",
        "colab_type": "code",
        "colab": {},
        "outputId": "dd87ab26-4347-4f99-c5f6-fffd4b1a0eda"
      },
      "source": [
        "# tuple support membership, count, index, slicing.. method\n",
        "# nested tuple is also possible\n",
        "\n",
        "# Packing\n",
        "t = 1, 2, 'python'\n",
        "t"
      ],
      "execution_count": null,
      "outputs": [
        {
          "output_type": "execute_result",
          "data": {
            "text/plain": [
              "(1, 2, 'python')"
            ]
          },
          "metadata": {
            "tags": []
          },
          "execution_count": 75
        }
      ]
    },
    {
      "cell_type": "code",
      "metadata": {
        "id": "4yiFZZE4iea0",
        "colab_type": "code",
        "colab": {},
        "outputId": "763d1863-e2f2-4e84-c290-2201cf8fbd76"
      },
      "source": [
        "# Unpacking\n",
        "a, b, c = t\n",
        "print(a)\n",
        "print(b)\n",
        "print(c)"
      ],
      "execution_count": null,
      "outputs": [
        {
          "output_type": "stream",
          "text": [
            "1\n",
            "2\n",
            "python\n"
          ],
          "name": "stdout"
        }
      ]
    },
    {
      "cell_type": "code",
      "metadata": {
        "id": "W7Ln7M-Iiea1",
        "colab_type": "code",
        "colab": {},
        "outputId": "4a75b0db-83dd-4c70-e051-450ebc7df117"
      },
      "source": [
        "# list also support unpacking\n",
        "l = [1, 2, 'python']\n",
        "a, b, c = l\n",
        "print(a)\n",
        "print(b)\n",
        "print(c)"
      ],
      "execution_count": null,
      "outputs": [
        {
          "output_type": "stream",
          "text": [
            "1\n",
            "2\n",
            "python\n"
          ],
          "name": "stdout"
        }
      ]
    },
    {
      "cell_type": "code",
      "metadata": {
        "id": "eFecr7cFiea3",
        "colab_type": "code",
        "colab": {},
        "outputId": "75b38068-6e82-4f13-97a5-c8fe0bb9c383"
      },
      "source": [
        "# extended unpacking\n",
        "t = 1, 2, 3, 4, 5  # create tuple\n",
        "a, *b, c = t\n",
        "print(a)\n",
        "print(b)  # b is list\n",
        "print(c)"
      ],
      "execution_count": null,
      "outputs": [
        {
          "output_type": "stream",
          "text": [
            "1\n",
            "[2, 3, 4]\n",
            "5\n"
          ],
          "name": "stdout"
        }
      ]
    },
    {
      "cell_type": "code",
      "metadata": {
        "id": "eOuL3XSXiea4",
        "colab_type": "code",
        "colab": {},
        "outputId": "81dab7b7-deda-48fc-a900-60a97a3d7852"
      },
      "source": [
        "# convert to list\n",
        "list(t)"
      ],
      "execution_count": null,
      "outputs": [
        {
          "output_type": "execute_result",
          "data": {
            "text/plain": [
              "[1, 2, 3, 4, 5]"
            ]
          },
          "metadata": {
            "tags": []
          },
          "execution_count": 79
        }
      ]
    },
    {
      "cell_type": "code",
      "metadata": {
        "id": "bzj5l69Ziea6",
        "colab_type": "code",
        "colab": {},
        "outputId": "94c30087-2e5e-4a95-e05c-bbf6eaee9f72"
      },
      "source": [
        "# tuple as arguments\n",
        "def add_sub(a, b):\n",
        "    return a + b, a - b  # return as tuple type\n",
        "\n",
        "x, y = add_sub(3, 4) # unpacking output\n",
        "print(x, y)"
      ],
      "execution_count": null,
      "outputs": [
        {
          "output_type": "stream",
          "text": [
            "7 -1\n"
          ],
          "name": "stdout"
        }
      ]
    },
    {
      "cell_type": "code",
      "metadata": {
        "id": "VFIGuTjeiea7",
        "colab_type": "code",
        "colab": {},
        "outputId": "739a8a6b-e10a-4709-f83d-c138fb70331b"
      },
      "source": [
        "args = (3, 4)\n",
        "x, y = add_sub(*args) # equivalent to add_sub(3, 4)\n",
        "print(x, y)"
      ],
      "execution_count": null,
      "outputs": [
        {
          "output_type": "stream",
          "text": [
            "7 -1\n"
          ],
          "name": "stdout"
        }
      ]
    },
    {
      "cell_type": "code",
      "metadata": {
        "id": "1GomGrh5iea9",
        "colab_type": "code",
        "colab": {},
        "outputId": "e02753e4-ed24-48c2-f200-374bc497b37d"
      },
      "source": [
        "a = set() # create empty set (warning!: '{}' is empty dictionary)\n",
        "a"
      ],
      "execution_count": null,
      "outputs": [
        {
          "output_type": "execute_result",
          "data": {
            "text/plain": [
              "set()"
            ]
          },
          "metadata": {
            "tags": []
          },
          "execution_count": 82
        }
      ]
    },
    {
      "cell_type": "code",
      "metadata": {
        "id": "7Ft24LvMiea_",
        "colab_type": "code",
        "colab": {},
        "outputId": "b3d9641f-f4af-418f-c26e-16e0ca3e3a07"
      },
      "source": [
        "b = {1, 2, 4} # create set object\n",
        "b"
      ],
      "execution_count": null,
      "outputs": [
        {
          "output_type": "execute_result",
          "data": {
            "text/plain": [
              "{1, 2, 4}"
            ]
          },
          "metadata": {
            "tags": []
          },
          "execution_count": 83
        }
      ]
    },
    {
      "cell_type": "code",
      "metadata": {
        "id": "mMYh4wY2iebA",
        "colab_type": "code",
        "colab": {},
        "outputId": "2d7c2798-9097-4883-f5b4-c29b79e37895"
      },
      "source": [
        "# set can be created by iterable object\n",
        "set([1, 2, 3])"
      ],
      "execution_count": null,
      "outputs": [
        {
          "output_type": "execute_result",
          "data": {
            "text/plain": [
              "{1, 2, 3}"
            ]
          },
          "metadata": {
            "tags": []
          },
          "execution_count": 84
        }
      ]
    },
    {
      "cell_type": "code",
      "metadata": {
        "id": "KDG90JeQiebC",
        "colab_type": "code",
        "colab": {},
        "outputId": "4099f18f-d6ed-4a4d-84c0-e2e56b372806"
      },
      "source": [
        "set('string') # string object is also iterable"
      ],
      "execution_count": null,
      "outputs": [
        {
          "output_type": "execute_result",
          "data": {
            "text/plain": [
              "{'g', 'i', 'n', 'r', 's', 't'}"
            ]
          },
          "metadata": {
            "tags": []
          },
          "execution_count": 85
        }
      ]
    },
    {
      "cell_type": "code",
      "metadata": {
        "id": "0y8QW52EiebE",
        "colab_type": "code",
        "colab": {},
        "outputId": "0c6c84d6-9216-42b3-9875-38be21cf9185"
      },
      "source": [
        "# set is collection of 'unique' elements\n",
        "set([1, 2, 3, 1, 2, 3, 1, 2, 3])"
      ],
      "execution_count": null,
      "outputs": [
        {
          "output_type": "execute_result",
          "data": {
            "text/plain": [
              "{1, 2, 3}"
            ]
          },
          "metadata": {
            "tags": []
          },
          "execution_count": 86
        }
      ]
    },
    {
      "cell_type": "code",
      "metadata": {
        "id": "-Mu_0CJ9iebG",
        "colab_type": "code",
        "colab": {},
        "outputId": "df1cd7f5-55f6-4427-afb3-447d3e323707"
      },
      "source": [
        "# Only hashable type (equivalent to immutable type) can be a element of set\n",
        "a = [1, 2, 3] # list is unhashable (mutable)\n",
        "b = [3, 4, 5]\n",
        "set([a, b])"
      ],
      "execution_count": null,
      "outputs": [
        {
          "output_type": "error",
          "ename": "TypeError",
          "evalue": "unhashable type: 'list'",
          "traceback": [
            "\u001b[0;31m---------------------------------------------------------------------------\u001b[0m",
            "\u001b[0;31mTypeError\u001b[0m                                 Traceback (most recent call last)",
            "\u001b[0;32m<ipython-input-87-2f72a7459fec>\u001b[0m in \u001b[0;36m<module>\u001b[0;34m\u001b[0m\n\u001b[1;32m      2\u001b[0m \u001b[0ma\u001b[0m \u001b[0;34m=\u001b[0m \u001b[0;34m[\u001b[0m\u001b[0;36m1\u001b[0m\u001b[0;34m,\u001b[0m \u001b[0;36m2\u001b[0m\u001b[0;34m,\u001b[0m \u001b[0;36m3\u001b[0m\u001b[0;34m]\u001b[0m \u001b[0;31m# list is unhashable (mutable)\u001b[0m\u001b[0;34m\u001b[0m\u001b[0;34m\u001b[0m\u001b[0m\n\u001b[1;32m      3\u001b[0m \u001b[0mb\u001b[0m \u001b[0;34m=\u001b[0m \u001b[0;34m[\u001b[0m\u001b[0;36m3\u001b[0m\u001b[0;34m,\u001b[0m \u001b[0;36m4\u001b[0m\u001b[0;34m,\u001b[0m \u001b[0;36m5\u001b[0m\u001b[0;34m]\u001b[0m\u001b[0;34m\u001b[0m\u001b[0;34m\u001b[0m\u001b[0m\n\u001b[0;32m----> 4\u001b[0;31m \u001b[0mset\u001b[0m\u001b[0;34m(\u001b[0m\u001b[0;34m[\u001b[0m\u001b[0ma\u001b[0m\u001b[0;34m,\u001b[0m \u001b[0mb\u001b[0m\u001b[0;34m]\u001b[0m\u001b[0;34m)\u001b[0m\u001b[0;34m\u001b[0m\u001b[0;34m\u001b[0m\u001b[0m\n\u001b[0m",
            "\u001b[0;31mTypeError\u001b[0m: unhashable type: 'list'"
          ]
        }
      ]
    },
    {
      "cell_type": "code",
      "metadata": {
        "id": "4j6j-J6LiebH",
        "colab_type": "code",
        "colab": {},
        "outputId": "bd8f509a-6bc7-4c71-b301-d97c92ab7162"
      },
      "source": [
        "# count the number of elements\n",
        "a = set((1, 2, 3))\n",
        "len(a)"
      ],
      "execution_count": null,
      "outputs": [
        {
          "output_type": "execute_result",
          "data": {
            "text/plain": [
              "3"
            ]
          },
          "metadata": {
            "tags": []
          },
          "execution_count": 88
        }
      ]
    },
    {
      "cell_type": "code",
      "metadata": {
        "id": "ojvAaXvpiebJ",
        "colab_type": "code",
        "colab": {},
        "outputId": "2ade5865-65c5-4f8d-cf17-31833cb0df70"
      },
      "source": [
        "a.add(4) # add element 4  (In-place operation)\n",
        "a"
      ],
      "execution_count": null,
      "outputs": [
        {
          "output_type": "execute_result",
          "data": {
            "text/plain": [
              "{1, 2, 3, 4}"
            ]
          },
          "metadata": {
            "tags": []
          },
          "execution_count": 89
        }
      ]
    },
    {
      "cell_type": "code",
      "metadata": {
        "id": "dkepq3ERiebK",
        "colab_type": "code",
        "colab": {},
        "outputId": "00c15237-177f-4358-9aa4-19c561145db5"
      },
      "source": [
        "a.update([4, 5, 6]) # a U {4, 5, 6}\n",
        "a"
      ],
      "execution_count": null,
      "outputs": [
        {
          "output_type": "execute_result",
          "data": {
            "text/plain": [
              "{1, 2, 3, 4, 5, 6}"
            ]
          },
          "metadata": {
            "tags": []
          },
          "execution_count": 90
        }
      ]
    },
    {
      "cell_type": "code",
      "metadata": {
        "id": "R6axCb6ziebL",
        "colab_type": "code",
        "colab": {},
        "outputId": "0b4104d5-d53e-493c-bcc8-27e7ae0578fa"
      },
      "source": [
        "b = {6, 7, 8}\n",
        "c = {8, 9, 10}\n",
        "a.update(b, c) # get more than two arguments\n",
        "a"
      ],
      "execution_count": null,
      "outputs": [
        {
          "output_type": "execute_result",
          "data": {
            "text/plain": [
              "{1, 2, 3, 4, 5, 6, 7, 8, 9, 10}"
            ]
          },
          "metadata": {
            "tags": []
          },
          "execution_count": 91
        }
      ]
    },
    {
      "cell_type": "code",
      "metadata": {
        "id": "ivQsYDeoiebN",
        "colab_type": "code",
        "colab": {},
        "outputId": "bc165b8a-5fdd-4205-976e-fc3f8b8a1358"
      },
      "source": [
        "# remove the elements -> remove(), discard() method\n",
        "# what's different?\n",
        "a.remove(3)\n",
        "a"
      ],
      "execution_count": null,
      "outputs": [
        {
          "output_type": "execute_result",
          "data": {
            "text/plain": [
              "{1, 2, 4, 5, 6, 7, 8, 9, 10}"
            ]
          },
          "metadata": {
            "tags": []
          },
          "execution_count": 92
        }
      ]
    },
    {
      "cell_type": "code",
      "metadata": {
        "id": "rPqgkWB4iebO",
        "colab_type": "code",
        "colab": {},
        "outputId": "9e00c91b-f2d5-49e8-b60b-36dd56a3d3b7"
      },
      "source": [
        "# Out-of-place set operation\n",
        "print(a.union(b)) # a U b\n",
        "print(a.intersection(b)) # a & b\n",
        "print(a.difference(b))  # a - b"
      ],
      "execution_count": null,
      "outputs": [
        {
          "output_type": "stream",
          "text": [
            "{1, 2, 4, 5, 6, 7, 8, 9, 10}\n",
            "{8, 6, 7}\n",
            "{1, 2, 4, 5, 9, 10}\n"
          ],
          "name": "stdout"
        }
      ]
    },
    {
      "cell_type": "markdown",
      "metadata": {
        "id": "kEmkrJWAiebP",
        "colab_type": "text"
      },
      "source": [
        "### Dictionary\n",
        "\n",
        "1. A piece of data or values that can be accessed by a key(word) you have at hand\n",
        "1. You can store the data with key-value pair\n",
        "1. The data structure is like below:\n",
        "\n",
        "```python\n",
        "{key1: value1, key2: value2, ...}\n",
        "```"
      ]
    },
    {
      "cell_type": "code",
      "metadata": {
        "id": "rl3voz0DiebP",
        "colab_type": "code",
        "colab": {},
        "outputId": "5da57207-b291-4034-d81e-f910cf382b20"
      },
      "source": [
        "a = {} # create empty dictionary\n",
        "a"
      ],
      "execution_count": null,
      "outputs": [
        {
          "output_type": "execute_result",
          "data": {
            "text/plain": [
              "{}"
            ]
          },
          "metadata": {
            "tags": []
          },
          "execution_count": 94
        }
      ]
    },
    {
      "cell_type": "code",
      "metadata": {
        "id": "07k_uJl-iebR",
        "colab_type": "code",
        "colab": {},
        "outputId": "8ef3811a-c46f-4691-8870-97a1737c2312"
      },
      "source": [
        "# create dict in various ways\n",
        "# the followings are equivalent\n",
        "\n",
        "a = {'apple': 1, 'banana': 2, 'orange': 3}\n",
        "a = dict(apple=1, banana=2, orange=3)\n",
        "a = dict([('apple',1), ('banana',2), ('orange',3)])\n",
        "\n",
        "keys = ['apple', 'banana', 'orange']\n",
        "values = (1, 2, 3)\n",
        "a = dict(zip(keys, values))  # zip return a sequence object of (key, value) pair\n",
        "\n",
        "a"
      ],
      "execution_count": null,
      "outputs": [
        {
          "output_type": "execute_result",
          "data": {
            "text/plain": [
              "{'apple': 1, 'banana': 2, 'orange': 3}"
            ]
          },
          "metadata": {
            "tags": []
          },
          "execution_count": 95
        }
      ]
    },
    {
      "cell_type": "code",
      "metadata": {
        "id": "1D7KTlIviebS",
        "colab_type": "code",
        "colab": {},
        "outputId": "8701984a-af77-4a29-bbda-a864b14b7fe5"
      },
      "source": [
        "a['banana'] # search using key"
      ],
      "execution_count": null,
      "outputs": [
        {
          "output_type": "execute_result",
          "data": {
            "text/plain": [
              "2"
            ]
          },
          "metadata": {
            "tags": []
          },
          "execution_count": 96
        }
      ]
    },
    {
      "cell_type": "code",
      "metadata": {
        "id": "4-ALPvHoiebT",
        "colab_type": "code",
        "colab": {},
        "outputId": "31c2c2ad-b755-496a-bcc5-f2e3f89defd6"
      },
      "source": [
        "a['grape'] = 4   # set new key-value\n",
        "a"
      ],
      "execution_count": null,
      "outputs": [
        {
          "output_type": "execute_result",
          "data": {
            "text/plain": [
              "{'apple': 1, 'banana': 2, 'orange': 3, 'grape': 4}"
            ]
          },
          "metadata": {
            "tags": []
          },
          "execution_count": 97
        }
      ]
    },
    {
      "cell_type": "code",
      "metadata": {
        "id": "8dRGWuh-iebU",
        "colab_type": "code",
        "colab": {},
        "outputId": "ff0caca3-7675-4fd6-f95d-e28571e3e690"
      },
      "source": [
        "a['grape'] = 0 # change the value\n",
        "a"
      ],
      "execution_count": null,
      "outputs": [
        {
          "output_type": "execute_result",
          "data": {
            "text/plain": [
              "{'apple': 1, 'banana': 2, 'orange': 3, 'grape': 0}"
            ]
          },
          "metadata": {
            "tags": []
          },
          "execution_count": 98
        }
      ]
    },
    {
      "cell_type": "code",
      "metadata": {
        "id": "Evi6lE1FiebV",
        "colab_type": "code",
        "colab": {},
        "outputId": "75c15b94-8ddd-430f-c021-a5d613dd0bb3"
      },
      "source": [
        "# length of dict\n",
        "len(a)"
      ],
      "execution_count": null,
      "outputs": [
        {
          "output_type": "execute_result",
          "data": {
            "text/plain": [
              "4"
            ]
          },
          "metadata": {
            "tags": []
          },
          "execution_count": 99
        }
      ]
    },
    {
      "cell_type": "code",
      "metadata": {
        "id": "PBbYhFAZiebY",
        "colab_type": "code",
        "colab": {},
        "outputId": "f3bdafe8-9865-4e26-ae6a-3ee9c5acbba8"
      },
      "source": [
        "del a['banana'] # delete key\n",
        "a"
      ],
      "execution_count": null,
      "outputs": [
        {
          "output_type": "execute_result",
          "data": {
            "text/plain": [
              "{'apple': 1, 'orange': 3, 'grape': 0}"
            ]
          },
          "metadata": {
            "tags": []
          },
          "execution_count": 100
        }
      ]
    },
    {
      "cell_type": "code",
      "metadata": {
        "id": "yEQwjU9-iebZ",
        "colab_type": "code",
        "colab": {},
        "outputId": "dac550c9-4a8a-4ec0-9e39-46242b464b52"
      },
      "source": [
        "# key must be hashable (== immutable) type (list, dict, .. can not be a key)\n",
        "# value can be every data type\n",
        "d = {}\n",
        "d['string'] = 'abc'\n",
        "d[1] = 2\n",
        "d[(1, 2, 3)] = 'tuple'\n",
        "d"
      ],
      "execution_count": null,
      "outputs": [
        {
          "output_type": "execute_result",
          "data": {
            "text/plain": [
              "{'string': 'abc', 1: 2, (1, 2, 3): 'tuple'}"
            ]
          },
          "metadata": {
            "tags": []
          },
          "execution_count": 101
        }
      ]
    },
    {
      "cell_type": "code",
      "metadata": {
        "id": "qWmPKD46iebd",
        "colab_type": "code",
        "colab": {},
        "outputId": "de534159-8f0f-4b14-a44c-a6749a900554"
      },
      "source": [
        "d[[1, 2, 3]] = 'list'"
      ],
      "execution_count": null,
      "outputs": [
        {
          "output_type": "error",
          "ename": "TypeError",
          "evalue": "unhashable type: 'list'",
          "traceback": [
            "\u001b[0;31m---------------------------------------------------------------------------\u001b[0m",
            "\u001b[0;31mTypeError\u001b[0m                                 Traceback (most recent call last)",
            "\u001b[0;32m<ipython-input-102-9dc212fb08e9>\u001b[0m in \u001b[0;36m<module>\u001b[0;34m\u001b[0m\n\u001b[0;32m----> 1\u001b[0;31m \u001b[0md\u001b[0m\u001b[0;34m[\u001b[0m\u001b[0;34m[\u001b[0m\u001b[0;36m1\u001b[0m\u001b[0;34m,\u001b[0m \u001b[0;36m2\u001b[0m\u001b[0;34m,\u001b[0m \u001b[0;36m3\u001b[0m\u001b[0;34m]\u001b[0m\u001b[0;34m]\u001b[0m \u001b[0;34m=\u001b[0m \u001b[0;34m'list'\u001b[0m\u001b[0;34m\u001b[0m\u001b[0;34m\u001b[0m\u001b[0m\n\u001b[0m",
            "\u001b[0;31mTypeError\u001b[0m: unhashable type: 'list'"
          ]
        }
      ]
    },
    {
      "cell_type": "code",
      "metadata": {
        "id": "91f5xwAciebe",
        "colab_type": "code",
        "colab": {},
        "outputId": "0ef48d90-0c7a-484a-aa62-ac80fb7086eb"
      },
      "source": [
        "# even function can be a key or value\n",
        "\n",
        "def add(a, b):\n",
        "    return a + b\n",
        "\n",
        "def sub(a, b):\n",
        "    return a - b\n",
        "\n",
        "d = {'add':add, 'sub':sub}\n",
        "d['add'](4, 5)"
      ],
      "execution_count": null,
      "outputs": [
        {
          "output_type": "execute_result",
          "data": {
            "text/plain": [
              "9"
            ]
          },
          "metadata": {
            "tags": []
          },
          "execution_count": 103
        }
      ]
    },
    {
      "cell_type": "code",
      "metadata": {
        "id": "ep7GMWTqiebf",
        "colab_type": "code",
        "colab": {},
        "outputId": "fade538f-d389-49cb-8917-6206e41e10aa"
      },
      "source": [
        "# return keys \n",
        "a.keys()"
      ],
      "execution_count": null,
      "outputs": [
        {
          "output_type": "execute_result",
          "data": {
            "text/plain": [
              "dict_keys(['apple', 'orange', 'grape'])"
            ]
          },
          "metadata": {
            "tags": []
          },
          "execution_count": 104
        }
      ]
    },
    {
      "cell_type": "code",
      "metadata": {
        "id": "_mnImnpciebg",
        "colab_type": "code",
        "colab": {},
        "outputId": "e14aac34-6fbc-45e7-9a6e-2b1c4f2b1cec"
      },
      "source": [
        "# return values\n",
        "a.values()"
      ],
      "execution_count": null,
      "outputs": [
        {
          "output_type": "execute_result",
          "data": {
            "text/plain": [
              "dict_values([1, 3, 0])"
            ]
          },
          "metadata": {
            "tags": []
          },
          "execution_count": 105
        }
      ]
    },
    {
      "cell_type": "code",
      "metadata": {
        "id": "VJIpek2Xiebh",
        "colab_type": "code",
        "colab": {},
        "outputId": "3f980bbe-3685-4a23-9bb5-665718e913f5"
      },
      "source": [
        "# return items\n",
        "a.items()"
      ],
      "execution_count": null,
      "outputs": [
        {
          "output_type": "execute_result",
          "data": {
            "text/plain": [
              "dict_items([('apple', 1), ('orange', 3), ('grape', 0)])"
            ]
          },
          "metadata": {
            "tags": []
          },
          "execution_count": 106
        }
      ]
    },
    {
      "cell_type": "code",
      "metadata": {
        "id": "9zFiKsCyiebi",
        "colab_type": "code",
        "colab": {},
        "outputId": "b09b30d2-a86e-4380-c497-90599af3a724"
      },
      "source": [
        "# dict can be used as iterable object\n",
        "for key in a:\n",
        "    print(key)"
      ],
      "execution_count": null,
      "outputs": [
        {
          "output_type": "stream",
          "text": [
            "apple\n",
            "orange\n",
            "grape\n"
          ],
          "name": "stdout"
        }
      ]
    },
    {
      "cell_type": "code",
      "metadata": {
        "id": "sx8l4l96iebj",
        "colab_type": "code",
        "colab": {},
        "outputId": "8270097a-b9b1-493c-9959-585018d7ddd1"
      },
      "source": [
        "for (key, value) in a.items():\n",
        "    print(key, value)"
      ],
      "execution_count": null,
      "outputs": [
        {
          "output_type": "stream",
          "text": [
            "apple 1\n",
            "orange 3\n",
            "grape 0\n"
          ],
          "name": "stdout"
        }
      ]
    },
    {
      "cell_type": "markdown",
      "metadata": {
        "id": "dwGBR059iebl",
        "colab_type": "text"
      },
      "source": [
        "### File Read & Write\n",
        "\n",
        "Three basic things: how to open, read and write data into flat files"
      ]
    },
    {
      "cell_type": "code",
      "metadata": {
        "id": "F9WuR3iqiebl",
        "colab_type": "code",
        "colab": {}
      },
      "source": [
        "s = 'Welcome to tutorial on reading and writing files in python!\\n'\n",
        "f = open('text1.txt', 'w') # open file as write only mode"
      ],
      "execution_count": null,
      "outputs": []
    },
    {
      "cell_type": "code",
      "metadata": {
        "id": "qvSr791Aiebm",
        "colab_type": "code",
        "colab": {},
        "outputId": "5ea6c282-ab71-4fbd-ca0e-1fa7292c23bd"
      },
      "source": [
        "f.write(s) # write text in txt file and return number of characters"
      ],
      "execution_count": null,
      "outputs": [
        {
          "output_type": "execute_result",
          "data": {
            "text/plain": [
              "60"
            ]
          },
          "metadata": {
            "tags": []
          },
          "execution_count": 115
        }
      ]
    },
    {
      "cell_type": "code",
      "metadata": {
        "id": "LQ9rIq0kiebn",
        "colab_type": "code",
        "colab": {},
        "outputId": "eb06c55f-2bd3-4cbc-dac0-97976b762e87"
      },
      "source": [
        "f.write('Writing new line\\n') # write new line in it\n",
        "f.close()\n",
        "f = open('text1.txt') # open file as read mode\n",
        "print(f.read())"
      ],
      "execution_count": null,
      "outputs": [
        {
          "output_type": "stream",
          "text": [
            "Welcome to tutorial on reading and writing files in python!\n",
            "Writing new line\n",
            "\n"
          ],
          "name": "stdout"
        }
      ]
    },
    {
      "cell_type": "code",
      "metadata": {
        "id": "jhnb16yLiebq",
        "colab_type": "code",
        "colab": {}
      },
      "source": [
        "# write lines with 'with' statement\n",
        "with open('text1.txt', 'w') as f:\n",
        "    f.write('Welcome to tutorial on reading and writing files in python!\\n')"
      ],
      "execution_count": null,
      "outputs": []
    },
    {
      "cell_type": "code",
      "metadata": {
        "id": "J-Tkej8Kiebr",
        "colab_type": "code",
        "colab": {},
        "outputId": "7d20134b-998f-4dbb-e1a0-af2c411f1864"
      },
      "source": [
        "# file read\n",
        "f = open('text1.txt') # default as read only mode\n",
        "print(f.read())\n",
        "f.close()"
      ],
      "execution_count": null,
      "outputs": [
        {
          "output_type": "stream",
          "text": [
            "Welcome to tutorial on reading and writing files in python!\n",
            "\n"
          ],
          "name": "stdout"
        }
      ]
    },
    {
      "cell_type": "code",
      "metadata": {
        "id": "tZrShdEEiebs",
        "colab_type": "code",
        "colab": {}
      },
      "source": [
        "# write multiple lines using writelines method\n",
        "# usage: file.writelines(list)\n",
        "\n",
        "lines = ['Welcome to tutorial', 'on reading and writing', 'files in python!']\n",
        "f = open('text2.txt', 'w')\n",
        "f.writelines('\\n'.join(lines))"
      ],
      "execution_count": null,
      "outputs": []
    },
    {
      "cell_type": "code",
      "metadata": {
        "id": "GSkl7ugBiebt",
        "colab_type": "code",
        "colab": {},
        "outputId": "9b3cfcff-8113-4335-d005-5e18cfd47c2b"
      },
      "source": [
        "# read file\n",
        "# readline(), readlines() methods\n",
        "\n",
        "with open('text2.txt') as f:\n",
        "    for line in f:\n",
        "        print(line, end=' ')"
      ],
      "execution_count": null,
      "outputs": [
        {
          "output_type": "stream",
          "text": [
            "Welcome to tutorial\n",
            " on reading and writing\n",
            " files in python! "
          ],
          "name": "stdout"
        }
      ]
    },
    {
      "cell_type": "code",
      "metadata": {
        "id": "CIAZUGa9iebw",
        "colab_type": "code",
        "colab": {},
        "outputId": "e363f715-fa9c-4abb-b22e-d50a9f757a61"
      },
      "source": [
        "# readline()\n",
        "\n",
        "f = open('text2.txt')\n",
        "line = f.readline()\n",
        "while line:\n",
        "    print(line, end=' ')\n",
        "    line = f.readline()"
      ],
      "execution_count": null,
      "outputs": [
        {
          "output_type": "stream",
          "text": [
            "Welcome to tutorial\n",
            " on reading and writing\n",
            " files in python! "
          ],
          "name": "stdout"
        }
      ]
    },
    {
      "cell_type": "code",
      "metadata": {
        "id": "tffN9ImNiebx",
        "colab_type": "code",
        "colab": {},
        "outputId": "e3db78c9-7b20-406c-b54c-ddacae80677c"
      },
      "source": [
        "# readlines()\n",
        "\n",
        "f = open('text2.txt')\n",
        "f.readlines()  # return as a list"
      ],
      "execution_count": null,
      "outputs": [
        {
          "output_type": "execute_result",
          "data": {
            "text/plain": [
              "['Welcome to tutorial\\n', 'on reading and writing\\n', 'files in python!']"
            ]
          },
          "metadata": {
            "tags": []
          },
          "execution_count": 122
        }
      ]
    },
    {
      "cell_type": "code",
      "metadata": {
        "id": "BGO-y2fJieby",
        "colab_type": "code",
        "colab": {},
        "outputId": "73298b30-8ed3-4c38-aff7-463f080f497e"
      },
      "source": [
        "# open a file for appending new lines\n",
        "f = open('text2.txt', 'a')\n",
        "f.write('\\nWriting new lines!')\n",
        "\n",
        "f = open('text2.txt', 'r')\n",
        "f.readlines()"
      ],
      "execution_count": null,
      "outputs": [
        {
          "output_type": "execute_result",
          "data": {
            "text/plain": [
              "['Welcome to tutorial\\n',\n",
              " 'on reading and writing\\n',\n",
              " 'files in python!\\n',\n",
              " 'Writing new lines!']"
            ]
          },
          "metadata": {
            "tags": []
          },
          "execution_count": 123
        }
      ]
    },
    {
      "cell_type": "markdown",
      "metadata": {
        "id": "Kjj-37PMiebz",
        "colab_type": "text"
      },
      "source": [
        "### Python Control Flow\n",
        "\n",
        "```if-elif-else``` are conditional statements that provide you with the decision making that is required when you want to execute code based on a particular condition. It is very common for programs to execute statements based on some conditions. The syntax of ```if-elif-else``` statement is the following:\n",
        "```python\n",
        "if boolean statement1:\n",
        "    statement1\n",
        "elif boolean statement2:\n",
        "    statement2\n",
        "else:\n",
        "    statement3\n",
        "```"
      ]
    },
    {
      "cell_type": "code",
      "metadata": {
        "id": "N70TJGr4iebz",
        "colab_type": "code",
        "colab": {},
        "outputId": "4e76fbec-d2d7-45bd-c2f4-0bf0195551b0"
      },
      "source": [
        "# define variable\n",
        "a = 'first condition'\n",
        "b = 20\n",
        "\n",
        "# if-slif-else construct\n",
        "if a == 'first condition':\n",
        "    print('first statement')\n",
        "elif a == 'second condition':\n",
        "    print('second statement')\n",
        "elif a == 'third condition':\n",
        "    print('third statement')\n",
        "else:\n",
        "    print('no conditions match')"
      ],
      "execution_count": null,
      "outputs": [
        {
          "output_type": "stream",
          "text": [
            "first statement\n"
          ],
          "name": "stdout"
        }
      ]
    },
    {
      "cell_type": "code",
      "metadata": {
        "scrolled": true,
        "id": "21lnPu6sieb0",
        "colab_type": "code",
        "colab": {},
        "outputId": "7aab08d8-ae28-4755-cf9c-e9646261d7d6"
      },
      "source": [
        "# if-else construct\n",
        "if b > 10:\n",
        "    print('b is higher than 10')\n",
        "else:\n",
        "    print('b is not higher than 10')"
      ],
      "execution_count": null,
      "outputs": [
        {
          "output_type": "stream",
          "text": [
            "b is higher than 10\n"
          ],
          "name": "stdout"
        }
      ]
    },
    {
      "cell_type": "markdown",
      "metadata": {
        "id": "i6o-em5Jieb1",
        "colab_type": "text"
      },
      "source": [
        "### Loops\n",
        "\n",
        "If you want to write the same line of code multiple times, loops help you to excute a block of code repeatedly.\n",
        "\n",
        "Python supports two kinds of loops:\n",
        "1. for loop\n",
        "1. while loop\n",
        "\n",
        "The syntax of for loop:\n",
        "```python\n",
        "for i in iterable object:\n",
        "    statement\n",
        "```"
      ]
    },
    {
      "cell_type": "code",
      "metadata": {
        "id": "50Nl3Lzuieb1",
        "colab_type": "code",
        "colab": {},
        "outputId": "8e988634-5679-44e0-b8ab-9bb4ece321ce"
      },
      "source": [
        "# example of for loop\n",
        "# range(a, b, k) returns a sequence from a to b-1 with k step\n",
        "\n",
        "for i in range(1, 11, 2):\n",
        "    print(i)"
      ],
      "execution_count": null,
      "outputs": [
        {
          "output_type": "stream",
          "text": [
            "1\n",
            "3\n",
            "5\n",
            "7\n",
            "9\n"
          ],
          "name": "stdout"
        }
      ]
    },
    {
      "cell_type": "code",
      "metadata": {
        "id": "lLlcu7fwieb2",
        "colab_type": "code",
        "colab": {},
        "outputId": "778d6f91-7080-444e-e312-ec5c40fad524"
      },
      "source": [
        "# list comprehension\n",
        "# list comprehension can utilize conditional statement to modify exisiting list\n",
        "a = [x for x in range(20) if x % 2 == 0]\n",
        "a"
      ],
      "execution_count": null,
      "outputs": [
        {
          "output_type": "execute_result",
          "data": {
            "text/plain": [
              "[0, 2, 4, 6, 8, 10, 12, 14, 16, 18]"
            ]
          },
          "metadata": {
            "tags": []
          },
          "execution_count": 69
        }
      ]
    },
    {
      "cell_type": "code",
      "metadata": {
        "id": "FXggbKDoieb3",
        "colab_type": "code",
        "colab": {},
        "outputId": "0ab39645-b75f-4fc4-b783-7ea0fb8cabc1"
      },
      "source": [
        "# nested if statement with list comprehension\n",
        "a = [y for y in range(100) if y % 2 == 0 if y % 5 == 0]\n",
        "a"
      ],
      "execution_count": null,
      "outputs": [
        {
          "output_type": "execute_result",
          "data": {
            "text/plain": [
              "[0, 10, 20, 30, 40, 50, 60, 70, 80, 90]"
            ]
          },
          "metadata": {
            "tags": []
          },
          "execution_count": 70
        }
      ]
    },
    {
      "cell_type": "code",
      "metadata": {
        "id": "ijuLdkCLieb4",
        "colab_type": "code",
        "colab": {},
        "outputId": "ee7d066f-d6fb-4af7-8ba4-f20d2df1cc77"
      },
      "source": [
        "# if else statement with list comprehension\n",
        "a = ['even' if i % 2 == 0 else 'odd' for i in range(10)]\n",
        "a"
      ],
      "execution_count": null,
      "outputs": [
        {
          "output_type": "execute_result",
          "data": {
            "text/plain": [
              "['even', 'odd', 'even', 'odd', 'even', 'odd', 'even', 'odd', 'even', 'odd']"
            ]
          },
          "metadata": {
            "tags": []
          },
          "execution_count": 71
        }
      ]
    },
    {
      "cell_type": "code",
      "metadata": {
        "id": "FUV4M77vieb5",
        "colab_type": "code",
        "colab": {},
        "outputId": "0d9a6891-49c8-479b-f0c3-d43688102333"
      },
      "source": [
        "# Dictionary Comprehension\n",
        "\n",
        "s = 'abcde'\n",
        "d1 = {k: v for k, v in zip(s, range(1, 6))}\n",
        "d1"
      ],
      "execution_count": null,
      "outputs": [
        {
          "output_type": "execute_result",
          "data": {
            "text/plain": [
              "{'a': 1, 'b': 2, 'c': 3, 'd': 4, 'e': 5}"
            ]
          },
          "metadata": {
            "tags": []
          },
          "execution_count": 110
        }
      ]
    },
    {
      "cell_type": "code",
      "metadata": {
        "id": "pjqaaj0Hieb6",
        "colab_type": "code",
        "colab": {},
        "outputId": "5c1fe4e5-c001-47a4-9710-c67eb0e452fe"
      },
      "source": [
        "double_d1 = {k: v * 2 for k, v in d1.items()}\n",
        "double_d1"
      ],
      "execution_count": null,
      "outputs": [
        {
          "output_type": "execute_result",
          "data": {
            "text/plain": [
              "{'a': 2, 'b': 4, 'c': 6, 'd': 8, 'e': 10}"
            ]
          },
          "metadata": {
            "tags": []
          },
          "execution_count": 111
        }
      ]
    },
    {
      "cell_type": "code",
      "metadata": {
        "id": "ro_gGOJNieb8",
        "colab_type": "code",
        "colab": {},
        "outputId": "e08ee249-3b7a-4ff0-dc8b-8a5bd60eda9f"
      },
      "source": [
        "double_d2 = {k * 2: v for k, v in double_d1.items()}\n",
        "double_d2"
      ],
      "execution_count": null,
      "outputs": [
        {
          "output_type": "execute_result",
          "data": {
            "text/plain": [
              "{'aa': 2, 'bb': 4, 'cc': 6, 'dd': 8, 'ee': 10}"
            ]
          },
          "metadata": {
            "tags": []
          },
          "execution_count": 112
        }
      ]
    },
    {
      "cell_type": "code",
      "metadata": {
        "id": "zj-U4Kibieb9",
        "colab_type": "code",
        "colab": {},
        "outputId": "05baee74-127a-49ea-e60c-d31aff3b2417"
      },
      "source": [
        "# dict comprehension with if else conditions\n",
        "dict_cond = {k: ('even' if v % 2 == 0 else 'odd') for k, v in double_d2.items()}\n",
        "dict_cond"
      ],
      "execution_count": null,
      "outputs": [
        {
          "output_type": "execute_result",
          "data": {
            "text/plain": [
              "{'aa': 'even', 'bb': 'even', 'cc': 'even', 'dd': 'even', 'ee': 'even'}"
            ]
          },
          "metadata": {
            "tags": []
          },
          "execution_count": 113
        }
      ]
    },
    {
      "cell_type": "markdown",
      "metadata": {
        "id": "FSRB1Q0Qieb_",
        "colab_type": "text"
      },
      "source": [
        "***Quick Question:*** Count how many times each letter appears"
      ]
    },
    {
      "cell_type": "code",
      "metadata": {
        "id": "VYHryPf4ieb_",
        "colab_type": "code",
        "colab": {},
        "outputId": "de22ef6c-6779-4515-da66-28a698bdfcfa"
      },
      "source": [
        "def histogram(string):\n",
        "    histo = {}\n",
        "    for s in string:\n",
        "        if s not in histo:\n",
        "            histo[s] = 1\n",
        "        else:\n",
        "            histo[s] +=1\n",
        "    return histo\n",
        "\n",
        "histogram(\"extraordinary\")"
      ],
      "execution_count": null,
      "outputs": [
        {
          "output_type": "execute_result",
          "data": {
            "text/plain": [
              "{'e': 1,\n",
              " 'x': 1,\n",
              " 't': 1,\n",
              " 'r': 3,\n",
              " 'a': 2,\n",
              " 'o': 1,\n",
              " 'd': 1,\n",
              " 'i': 1,\n",
              " 'n': 1,\n",
              " 'y': 1}"
            ]
          },
          "metadata": {
            "tags": []
          },
          "execution_count": 109
        }
      ]
    },
    {
      "cell_type": "markdown",
      "metadata": {
        "id": "X8K9YjuFiecA",
        "colab_type": "text"
      },
      "source": [
        "The syntax of while loop:\n",
        "```python\n",
        "while condition:\n",
        "    statement\n",
        "```\n",
        "\n",
        "The while loop keeps executing the statements until condition becomes False. If condition becomes False, execution is out of the loop"
      ]
    },
    {
      "cell_type": "code",
      "metadata": {
        "id": "MJkJ91bGiecB",
        "colab_type": "code",
        "colab": {},
        "outputId": "46bd5619-7f97-4da4-97ba-24bf5f0f853d"
      },
      "source": [
        "# example of while loop\n",
        "count = 0\n",
        "while count < 5:\n",
        "    print(count, end=' ')\n",
        "    count += 1"
      ],
      "execution_count": null,
      "outputs": [
        {
          "output_type": "stream",
          "text": [
            "0 1 2 3 4 "
          ],
          "name": "stdout"
        }
      ]
    },
    {
      "cell_type": "markdown",
      "metadata": {
        "id": "7kdrAXhPiecC",
        "colab_type": "text"
      },
      "source": [
        "**break & continue statement**\n",
        "\n",
        "```break``` statement allows to break out of the loop.\n",
        "\n",
        "When ```continue``` statement encountered, program control goes to the end of the loop."
      ]
    },
    {
      "cell_type": "code",
      "metadata": {
        "id": "rQjlPtMviecC",
        "colab_type": "code",
        "colab": {},
        "outputId": "a4d6c60d-1050-4a15-b6b2-d8917699cda9"
      },
      "source": [
        "# example of break statement\n",
        "count = 0\n",
        "while count < 5:\n",
        "    print(count, end=' ')\n",
        "    count += 1\n",
        "    if count == 3:  # if count becomes 3, break keyword breaks out of the loop\n",
        "        break"
      ],
      "execution_count": null,
      "outputs": [
        {
          "output_type": "stream",
          "text": [
            "0 1 2 "
          ],
          "name": "stdout"
        }
      ]
    },
    {
      "cell_type": "code",
      "metadata": {
        "id": "fNf-ymB6iecD",
        "colab_type": "code",
        "colab": {},
        "outputId": "6fe97a51-5119-45f2-fa57-332352445698"
      },
      "source": [
        "# example of continue statement\n",
        "count = 0\n",
        "while count < 5:\n",
        "    count += 1\n",
        "    if count > 3:\n",
        "        continue\n",
        "    print(count, end=' ')"
      ],
      "execution_count": null,
      "outputs": [
        {
          "output_type": "stream",
          "text": [
            "1 2 3 "
          ],
          "name": "stdout"
        }
      ]
    },
    {
      "cell_type": "markdown",
      "metadata": {
        "id": "nBkBwYFNiecE",
        "colab_type": "text"
      },
      "source": [
        "**Quick Question:** Transpose the following 2D matrix by using for loop or list comprehension"
      ]
    },
    {
      "cell_type": "code",
      "metadata": {
        "id": "7CbD4LjbiecE",
        "colab_type": "code",
        "colab": {},
        "outputId": "688c981f-fb73-4374-e518-d7eef19b635e"
      },
      "source": [
        "# transpose using for loop\n",
        "matrix = [[1, 2, 3, 4], [5, 6, 7, 8]]\n",
        "matrix_transpose = [[0,0], [0,0], [0,0], [0,0]]\n",
        "\n",
        "for i in range(len(matrix)):\n",
        "    for j in range(len(matrix_transpose)):\n",
        "        matrix_transpose[j][i] = matrix[i][j]\n",
        "        \n",
        "matrix_transpose"
      ],
      "execution_count": null,
      "outputs": [
        {
          "output_type": "execute_result",
          "data": {
            "text/plain": [
              "[[1, 5], [2, 6], [3, 7], [4, 8]]"
            ]
          },
          "metadata": {
            "tags": []
          },
          "execution_count": 130
        }
      ]
    },
    {
      "cell_type": "code",
      "metadata": {
        "id": "UbHakIhKiecH",
        "colab_type": "code",
        "colab": {},
        "outputId": "4714f460-4b4f-400e-e75b-eee373679d3e"
      },
      "source": [
        "# nested loops in list comprehension\n",
        "matrix = [[1, 2, 3, 4], [5, 6, 7, 8]]\n",
        "\n",
        "matrix = [[matrix[j][i] for j in range(len(matrix))] for i in range(len(matrix[0]))]\n",
        "matrix"
      ],
      "execution_count": null,
      "outputs": [
        {
          "output_type": "execute_result",
          "data": {
            "text/plain": [
              "[[1, 5], [2, 6], [3, 7], [4, 8]]"
            ]
          },
          "metadata": {
            "tags": []
          },
          "execution_count": 131
        }
      ]
    },
    {
      "cell_type": "markdown",
      "metadata": {
        "id": "lqiYFdrZiecI",
        "colab_type": "text"
      },
      "source": [
        "### Python Functions\n",
        "\n",
        "You can use functions to bundle a set of instructions that you want to use repeatedly.\n",
        "\n",
        "There are three types of functions in python:\n",
        "- **Built-in functions**: predefined functions (keywords) such as ```print()```, ```str.lower()```, and so on.\n",
        "- **User-defined functions**\n",
        "- **Anonymous functions** (lambda function)\n",
        "\n",
        "The syntax for defining user-defined function :\n",
        "```python\n",
        "def func_name(arguments [-> not mandatory]):\n",
        "    statements\n",
        "    return ... [-> not mandatory]\n",
        "```"
      ]
    },
    {
      "cell_type": "code",
      "metadata": {
        "id": "uc-h9_raiecI",
        "colab_type": "code",
        "colab": {},
        "outputId": "b56c6f99-57a6-4d0f-b45e-7c5fce1d8b66"
      },
      "source": [
        "def hello():\n",
        "    print('Hello World')\n",
        "    return  # return None object\n",
        "\n",
        "hello()"
      ],
      "execution_count": null,
      "outputs": [
        {
          "output_type": "stream",
          "text": [
            "Hello World\n"
          ],
          "name": "stdout"
        }
      ]
    },
    {
      "cell_type": "code",
      "metadata": {
        "id": "2Rf0q7V-iecK",
        "colab_type": "code",
        "colab": {}
      },
      "source": [
        "# you can call the function in another function\n",
        "\n",
        "def add_exponent(a, b):  # Required arguments! -> need to be passed during function call\n",
        "    c = add(a, b)  # we must define add() function!\n",
        "    return c ** 2\n",
        "\n",
        "def add(a, b):\n",
        "    return a + b"
      ],
      "execution_count": null,
      "outputs": []
    },
    {
      "cell_type": "code",
      "metadata": {
        "id": "iRrcPTF8iecL",
        "colab_type": "code",
        "colab": {},
        "outputId": "bb2bed2a-2e13-4af8-dda5-05c1bb39df26"
      },
      "source": [
        "add_exponent(3, 4)  # (3 + 4)^2"
      ],
      "execution_count": null,
      "outputs": [
        {
          "output_type": "execute_result",
          "data": {
            "text/plain": [
              "49"
            ]
          },
          "metadata": {
            "tags": []
          },
          "execution_count": 134
        }
      ]
    },
    {
      "cell_type": "code",
      "metadata": {
        "id": "4wwJvXP_iecM",
        "colab_type": "code",
        "colab": {},
        "outputId": "36fe6021-20e3-427a-eeec-999b91dd154d"
      },
      "source": [
        "# Default Arguments\n",
        "\n",
        "def add(a, b=3): # assign default value to b as 3\n",
        "    return a + b\n",
        "\n",
        "add(5)  # 5 + 3"
      ],
      "execution_count": null,
      "outputs": [
        {
          "output_type": "execute_result",
          "data": {
            "text/plain": [
              "8"
            ]
          },
          "metadata": {
            "tags": []
          },
          "execution_count": 135
        }
      ]
    },
    {
      "cell_type": "code",
      "metadata": {
        "id": "uBe4c1TEiecN",
        "colab_type": "code",
        "colab": {},
        "outputId": "3921a553-282a-4e2d-97c8-8730d3af6d58"
      },
      "source": [
        "add(5, 6) # 5 + 6 (call with positional arguments)"
      ],
      "execution_count": null,
      "outputs": [
        {
          "output_type": "execute_result",
          "data": {
            "text/plain": [
              "11"
            ]
          },
          "metadata": {
            "tags": []
          },
          "execution_count": 136
        }
      ]
    },
    {
      "cell_type": "code",
      "metadata": {
        "id": "wMdXwwCIiecP",
        "colab_type": "code",
        "colab": {},
        "outputId": "ff085b42-934f-44de-acec-33b747f9bde0"
      },
      "source": [
        "# keyword arguments -> make sure all the parameters in the right order\n",
        "\n",
        "def sub(a, b):\n",
        "    return a - b\n",
        "\n",
        "sub(5, 10) # call with parameters"
      ],
      "execution_count": null,
      "outputs": [
        {
          "output_type": "execute_result",
          "data": {
            "text/plain": [
              "-5"
            ]
          },
          "metadata": {
            "tags": []
          },
          "execution_count": 137
        }
      ]
    },
    {
      "cell_type": "code",
      "metadata": {
        "id": "seFKN-1qiecQ",
        "colab_type": "code",
        "colab": {},
        "outputId": "0a40d963-515b-4a9c-901e-ff85da9edd36"
      },
      "source": [
        "sub(b=5, a=10) # call with keyword arguments"
      ],
      "execution_count": null,
      "outputs": [
        {
          "output_type": "execute_result",
          "data": {
            "text/plain": [
              "5"
            ]
          },
          "metadata": {
            "tags": []
          },
          "execution_count": 138
        }
      ]
    },
    {
      "cell_type": "code",
      "metadata": {
        "id": "ka6cgUweiecR",
        "colab_type": "code",
        "colab": {},
        "outputId": "2eecc69b-3999-4656-fa61-7fc502343834"
      },
      "source": [
        "# Having a positional argument after keyword arguments will result in errors\n",
        "sub(a=10, 5)"
      ],
      "execution_count": null,
      "outputs": [
        {
          "output_type": "error",
          "ename": "SyntaxError",
          "evalue": "positional argument follows keyword argument (<ipython-input-139-e30a324bbc44>, line 2)",
          "traceback": [
            "\u001b[0;36m  File \u001b[0;32m\"<ipython-input-139-e30a324bbc44>\"\u001b[0;36m, line \u001b[0;32m2\u001b[0m\n\u001b[0;31m    sub(a=10, 5)\u001b[0m\n\u001b[0m             ^\u001b[0m\n\u001b[0;31mSyntaxError\u001b[0m\u001b[0;31m:\u001b[0m positional argument follows keyword argument\n"
          ]
        }
      ]
    },
    {
      "cell_type": "code",
      "metadata": {
        "id": "Md1rMSL3iecS",
        "colab_type": "code",
        "colab": {},
        "outputId": "e4163c21-0e3f-4ce8-eecf-785e37dbe6c0"
      },
      "source": [
        "# usage of unpacking: *args, **kwargs\n",
        "# asterisk is placed before the tuple object\n",
        "\n",
        "args = (10, 5)\n",
        "sub(*args)"
      ],
      "execution_count": null,
      "outputs": [
        {
          "output_type": "execute_result",
          "data": {
            "text/plain": [
              "5"
            ]
          },
          "metadata": {
            "tags": []
          },
          "execution_count": 140
        }
      ]
    },
    {
      "cell_type": "code",
      "metadata": {
        "id": "KNk-XIMfiecU",
        "colab_type": "code",
        "colab": {}
      },
      "source": [
        "# variable number of arguments\n",
        "\n",
        "def vargs(a, *args):\n",
        "    return a, args"
      ],
      "execution_count": null,
      "outputs": []
    },
    {
      "cell_type": "code",
      "metadata": {
        "id": "KIyFL4kniecV",
        "colab_type": "code",
        "colab": {},
        "outputId": "e144ba77-c39c-4864-df35-cda15e7a9f42"
      },
      "source": [
        "vargs(10)"
      ],
      "execution_count": null,
      "outputs": [
        {
          "output_type": "execute_result",
          "data": {
            "text/plain": [
              "(10, ())"
            ]
          },
          "metadata": {
            "tags": []
          },
          "execution_count": 142
        }
      ]
    },
    {
      "cell_type": "code",
      "metadata": {
        "id": "aJeTcS39iecW",
        "colab_type": "code",
        "colab": {},
        "outputId": "9b58b8d8-e4a4-451d-ba6a-832932ec999b"
      },
      "source": [
        "vargs(10, 11, 12)"
      ],
      "execution_count": null,
      "outputs": [
        {
          "output_type": "execute_result",
          "data": {
            "text/plain": [
              "(10, (11, 12))"
            ]
          },
          "metadata": {
            "tags": []
          },
          "execution_count": 143
        }
      ]
    },
    {
      "cell_type": "code",
      "metadata": {
        "id": "ZVm7wks9iecY",
        "colab_type": "code",
        "colab": {},
        "outputId": "bc5a981f-474e-4b6f-b259-181bf4025473"
      },
      "source": [
        "vargs(10, 11, 12, 13, 14, 15)"
      ],
      "execution_count": null,
      "outputs": [
        {
          "output_type": "execute_result",
          "data": {
            "text/plain": [
              "(10, (11, 12, 13, 14, 15))"
            ]
          },
          "metadata": {
            "tags": []
          },
          "execution_count": 144
        }
      ]
    },
    {
      "cell_type": "code",
      "metadata": {
        "id": "6FvZSHatiecZ",
        "colab_type": "code",
        "colab": {},
        "outputId": "cec4cc79-6cde-4604-aef3-5b3609e642fd"
      },
      "source": [
        "# user defined make list function\n",
        "\n",
        "def make_list(*args):\n",
        "    return list(args)\n",
        "\n",
        "make_list(1, 2, 3, 4, 5)"
      ],
      "execution_count": null,
      "outputs": [
        {
          "output_type": "execute_result",
          "data": {
            "text/plain": [
              "[1, 2, 3, 4, 5]"
            ]
          },
          "metadata": {
            "tags": []
          },
          "execution_count": 145
        }
      ]
    },
    {
      "cell_type": "code",
      "metadata": {
        "id": "BBa65DsNiecc",
        "colab_type": "code",
        "colab": {},
        "outputId": "268b399e-fb54-4351-d628-df244db680e4"
      },
      "source": [
        "# double asterisk(**) is placed before the dict object\n",
        "\n",
        "kwargs = dict(a=5, b=10)\n",
        "sub(**kwargs) # function call with keyword arguments"
      ],
      "execution_count": null,
      "outputs": [
        {
          "output_type": "execute_result",
          "data": {
            "text/plain": [
              "-5"
            ]
          },
          "metadata": {
            "tags": []
          },
          "execution_count": 146
        }
      ]
    },
    {
      "cell_type": "code",
      "metadata": {
        "id": "rgTIwPo0iecd",
        "colab_type": "code",
        "colab": {},
        "outputId": "d7f32d77-22ee-482c-d18a-83d20df667b4"
      },
      "source": [
        "# passing undefined keyword arguments\n",
        "\n",
        "def f(a, b, *args, **kwargs):\n",
        "    print(a, b)\n",
        "    print(args)\n",
        "    print(kwargs)\n",
        "    \n",
        "f(1, 2, 3, 4, c=5, d=6)"
      ],
      "execution_count": null,
      "outputs": [
        {
          "output_type": "stream",
          "text": [
            "1 2\n",
            "(3, 4)\n",
            "{'c': 5, 'd': 6}\n"
          ],
          "name": "stdout"
        }
      ]
    },
    {
      "cell_type": "code",
      "metadata": {
        "id": "ufIUgYiUiecf",
        "colab_type": "code",
        "colab": {},
        "outputId": "f76188ce-e5b0-4783-b68b-2ae145b80e8c"
      },
      "source": [
        "args = (3, 4)\n",
        "kwargs = {'c':5, 'd':6}\n",
        "\n",
        "f(1, 2, *args, **kwargs)"
      ],
      "execution_count": null,
      "outputs": [
        {
          "output_type": "stream",
          "text": [
            "1 2\n",
            "(3, 4)\n",
            "{'c': 5, 'd': 6}\n"
          ],
          "name": "stdout"
        }
      ]
    },
    {
      "cell_type": "markdown",
      "metadata": {
        "id": "J9svrkcriecg",
        "colab_type": "text"
      },
      "source": [
        "**Global & Local variable**\n",
        "\n",
        "**Global variable**: A variable declared outside of the function or in global scope. This means that a global variable can be accessed inside or outside of the function.\n",
        "\n",
        "**Local variable**: A variable declared inside the function's body or in the local scope."
      ]
    },
    {
      "cell_type": "code",
      "metadata": {
        "id": "DBjQaaqjiecg",
        "colab_type": "code",
        "colab": {}
      },
      "source": [
        "# define global variable\n",
        "x = 10\n",
        "y = 20"
      ],
      "execution_count": null,
      "outputs": []
    },
    {
      "cell_type": "code",
      "metadata": {
        "id": "5WfSMtneieci",
        "colab_type": "code",
        "colab": {},
        "outputId": "91023574-ab30-45b4-c257-7751b16507ab"
      },
      "source": [
        "# Local variable would be referenced(accessed) if it is assigned in local scope. Otherwise, access global variable\n",
        "\n",
        "def func1():\n",
        "    x = 11 # local variable of func1\n",
        "    def func2():\n",
        "        z = 30 # local variable of func2\n",
        "        print(x, y, z) # reference x, z for local variable and y for global variable\n",
        "    func2()\n",
        "    x = 12 # change the value of x via local variable assignment (do not affect global variable)\n",
        "    func2()\n",
        "    \n",
        "func1()"
      ],
      "execution_count": null,
      "outputs": [
        {
          "output_type": "stream",
          "text": [
            "11 20 30\n",
            "12 20 30\n"
          ],
          "name": "stdout"
        }
      ]
    },
    {
      "cell_type": "code",
      "metadata": {
        "id": "Lykr5JqYiecj",
        "colab_type": "code",
        "colab": {},
        "outputId": "090dbaac-be50-4837-965e-1e05087cb0ce"
      },
      "source": [
        "# global variable x is not affected by local variable assignment\n",
        "x"
      ],
      "execution_count": null,
      "outputs": [
        {
          "output_type": "execute_result",
          "data": {
            "text/plain": [
              "10"
            ]
          },
          "metadata": {
            "tags": []
          },
          "execution_count": 151
        }
      ]
    },
    {
      "cell_type": "markdown",
      "metadata": {
        "id": "rmzXaUsFieck",
        "colab_type": "text"
      },
      "source": [
        "**global & nonlocal statement**"
      ]
    },
    {
      "cell_type": "code",
      "metadata": {
        "id": "RY_ALohYieck",
        "colab_type": "code",
        "colab": {},
        "outputId": "e2c0924d-e55e-4ee6-c98b-cc35e00ae233"
      },
      "source": [
        "g = 10\n",
        "def func():\n",
        "    x = g   # g is not local -> reference global variable\n",
        "    return x\n",
        "\n",
        "func()"
      ],
      "execution_count": null,
      "outputs": [
        {
          "output_type": "execute_result",
          "data": {
            "text/plain": [
              "10"
            ]
          },
          "metadata": {
            "tags": []
          },
          "execution_count": 152
        }
      ]
    },
    {
      "cell_type": "code",
      "metadata": {
        "id": "tModvGNxiecn",
        "colab_type": "code",
        "colab": {},
        "outputId": "1fd2fbd4-203b-496c-9e5b-6eba5292d51c"
      },
      "source": [
        "# you must assign before reference (no execption to local variable)\n",
        "g = 10\n",
        "def func():\n",
        "    x = g   #  2. but not assigned before reference\n",
        "    g = 10  # 1. g is considered as local variable,\n",
        "    return x\n",
        "\n",
        "func()"
      ],
      "execution_count": null,
      "outputs": [
        {
          "output_type": "error",
          "ename": "UnboundLocalError",
          "evalue": "local variable 'g' referenced before assignment",
          "traceback": [
            "\u001b[0;31m---------------------------------------------------------------------------\u001b[0m",
            "\u001b[0;31mUnboundLocalError\u001b[0m                         Traceback (most recent call last)",
            "\u001b[0;32m<ipython-input-153-47bd7e750b57>\u001b[0m in \u001b[0;36m<module>\u001b[0;34m\u001b[0m\n\u001b[1;32m      6\u001b[0m     \u001b[0;32mreturn\u001b[0m \u001b[0mx\u001b[0m\u001b[0;34m\u001b[0m\u001b[0;34m\u001b[0m\u001b[0m\n\u001b[1;32m      7\u001b[0m \u001b[0;34m\u001b[0m\u001b[0m\n\u001b[0;32m----> 8\u001b[0;31m \u001b[0mfunc\u001b[0m\u001b[0;34m(\u001b[0m\u001b[0;34m)\u001b[0m\u001b[0;34m\u001b[0m\u001b[0;34m\u001b[0m\u001b[0m\n\u001b[0m",
            "\u001b[0;32m<ipython-input-153-47bd7e750b57>\u001b[0m in \u001b[0;36mfunc\u001b[0;34m()\u001b[0m\n\u001b[1;32m      2\u001b[0m \u001b[0mg\u001b[0m \u001b[0;34m=\u001b[0m \u001b[0;36m10\u001b[0m\u001b[0;34m\u001b[0m\u001b[0;34m\u001b[0m\u001b[0m\n\u001b[1;32m      3\u001b[0m \u001b[0;32mdef\u001b[0m \u001b[0mfunc\u001b[0m\u001b[0;34m(\u001b[0m\u001b[0;34m)\u001b[0m\u001b[0;34m:\u001b[0m\u001b[0;34m\u001b[0m\u001b[0;34m\u001b[0m\u001b[0m\n\u001b[0;32m----> 4\u001b[0;31m     \u001b[0mx\u001b[0m \u001b[0;34m=\u001b[0m \u001b[0mg\u001b[0m   \u001b[0;31m#  2. but not assigned before reference\u001b[0m\u001b[0;34m\u001b[0m\u001b[0;34m\u001b[0m\u001b[0m\n\u001b[0m\u001b[1;32m      5\u001b[0m     \u001b[0mg\u001b[0m \u001b[0;34m=\u001b[0m \u001b[0;36m10\u001b[0m  \u001b[0;31m# 1. g is considered as local variable,\u001b[0m\u001b[0;34m\u001b[0m\u001b[0;34m\u001b[0m\u001b[0m\n\u001b[1;32m      6\u001b[0m     \u001b[0;32mreturn\u001b[0m \u001b[0mx\u001b[0m\u001b[0;34m\u001b[0m\u001b[0;34m\u001b[0m\u001b[0m\n",
            "\u001b[0;31mUnboundLocalError\u001b[0m: local variable 'g' referenced before assignment"
          ]
        }
      ]
    },
    {
      "cell_type": "code",
      "metadata": {
        "id": "PccMJycKieco",
        "colab_type": "code",
        "colab": {},
        "outputId": "5273f899-aa1f-4c2e-885f-934c6cf2d56f"
      },
      "source": [
        "# global statement connects local to global variable\n",
        "\n",
        "g = 10\n",
        "def func():\n",
        "    global g  # connect local to global g\n",
        "    x = g\n",
        "    g = 20  # change the global variable g\n",
        "    return x\n",
        "\n",
        "func(), g"
      ],
      "execution_count": null,
      "outputs": [
        {
          "output_type": "execute_result",
          "data": {
            "text/plain": [
              "(10, 20)"
            ]
          },
          "metadata": {
            "tags": []
          },
          "execution_count": 154
        }
      ]
    },
    {
      "cell_type": "code",
      "metadata": {
        "id": "lZaCTgnhiecp",
        "colab_type": "code",
        "colab": {},
        "outputId": "af89eecc-452d-4968-f02a-3372ec05d0ca"
      },
      "source": [
        "# nonlocal statement connect local to variable in closest namescope\n",
        "\n",
        "def func1():\n",
        "    x = 1\n",
        "    def func2():\n",
        "        nonlocal x  # connect local x of func2 to variable x of func1\n",
        "        x = 10  # change the variable x of func1\n",
        "        print(x)\n",
        "    func2()\n",
        "    print(x)\n",
        "\n",
        "func1()"
      ],
      "execution_count": null,
      "outputs": [
        {
          "output_type": "stream",
          "text": [
            "10\n",
            "10\n"
          ],
          "name": "stdout"
        }
      ]
    },
    {
      "cell_type": "code",
      "metadata": {
        "id": "TTKLBxUJiecq",
        "colab_type": "code",
        "colab": {},
        "outputId": "375722cd-a633-426f-8540-6fc4d2f39527"
      },
      "source": [
        "# function as a argument\n",
        "\n",
        "def f(a, b):\n",
        "    return a + b\n",
        "\n",
        "def g(func, a, b):\n",
        "    return func(a, b) # function as a argument\n",
        "\n",
        "g(f, 4, 5)"
      ],
      "execution_count": null,
      "outputs": [
        {
          "output_type": "execute_result",
          "data": {
            "text/plain": [
              "9"
            ]
          },
          "metadata": {
            "tags": []
          },
          "execution_count": 156
        }
      ]
    },
    {
      "cell_type": "code",
      "metadata": {
        "id": "duQD3fPsiecr",
        "colab_type": "code",
        "colab": {},
        "outputId": "d7269b5b-b21a-42af-cf2a-fc0400bc6d4d"
      },
      "source": [
        "# lambda function\n",
        "f = lambda : 1  # no parameter, just return 1\n",
        "f()"
      ],
      "execution_count": null,
      "outputs": [
        {
          "output_type": "execute_result",
          "data": {
            "text/plain": [
              "1"
            ]
          },
          "metadata": {
            "tags": []
          },
          "execution_count": 157
        }
      ]
    },
    {
      "cell_type": "code",
      "metadata": {
        "id": "MiBgX9G-iecs",
        "colab_type": "code",
        "colab": {},
        "outputId": "865ea3e3-250f-465f-f9e9-5c3754b3f6e6"
      },
      "source": [
        "f = lambda x, y: x + y\n",
        "f(4, 5)"
      ],
      "execution_count": null,
      "outputs": [
        {
          "output_type": "execute_result",
          "data": {
            "text/plain": [
              "9"
            ]
          },
          "metadata": {
            "tags": []
          },
          "execution_count": 158
        }
      ]
    },
    {
      "cell_type": "code",
      "metadata": {
        "id": "__wCIwrNiect",
        "colab_type": "code",
        "colab": {},
        "outputId": "a2e34337-0055-47d0-a4cc-3726886512f5"
      },
      "source": [
        "f = lambda x, y=10: x + y  # keyword argument support\n",
        "f(20)"
      ],
      "execution_count": null,
      "outputs": [
        {
          "output_type": "execute_result",
          "data": {
            "text/plain": [
              "30"
            ]
          },
          "metadata": {
            "tags": []
          },
          "execution_count": 159
        }
      ]
    },
    {
      "cell_type": "code",
      "metadata": {
        "id": "9SXNGaJuiecu",
        "colab_type": "code",
        "colab": {},
        "outputId": "5b3c296b-43e2-4f8d-f39f-a74a78d12665"
      },
      "source": [
        "keywords = lambda x, *args, **kwargs: kwargs\n",
        "keywords(1, 2, 3, a=4, b=5)"
      ],
      "execution_count": null,
      "outputs": [
        {
          "output_type": "execute_result",
          "data": {
            "text/plain": [
              "{'a': 4, 'b': 5}"
            ]
          },
          "metadata": {
            "tags": []
          },
          "execution_count": 160
        }
      ]
    },
    {
      "cell_type": "markdown",
      "metadata": {
        "id": "HTNWXj6eiecv",
        "colab_type": "text"
      },
      "source": [
        "**Quick Question:** Define function that check whether a given Number is a prime number."
      ]
    },
    {
      "cell_type": "code",
      "metadata": {
        "id": "cjz4kVYUiecv",
        "colab_type": "code",
        "colab": {},
        "outputId": "6732a05c-d798-4048-8553-ed0eccb08546"
      },
      "source": [
        "def check_prime(number):\n",
        "    counter = 0\n",
        "    for i in range(2, number//2 + 1):\n",
        "        counter += int(number % i == 0)\n",
        "        if counter > 0:\n",
        "            print('{} is not a prime number'.format(number))\n",
        "            return\n",
        "    print('{} is a prime number'.format(number))\n",
        "\n",
        "check_prime(2)\n",
        "check_prime(10)\n",
        "check_prime(17)"
      ],
      "execution_count": null,
      "outputs": [
        {
          "output_type": "stream",
          "text": [
            "2 is a prime number\n",
            "10 is not a prime number\n",
            "17 is a prime number\n"
          ],
          "name": "stdout"
        }
      ]
    },
    {
      "cell_type": "markdown",
      "metadata": {
        "id": "5D1vDVOBiecw",
        "colab_type": "text"
      },
      "source": [
        "**Quick Question:** Compute i'th element of Fibonacci sequence"
      ]
    },
    {
      "cell_type": "code",
      "metadata": {
        "id": "Hs6v1YFliecw",
        "colab_type": "code",
        "colab": {},
        "outputId": "807bd36b-81db-4a68-cbad-08af37f28f32"
      },
      "source": [
        "def fibo(n):\n",
        "    if n<=1:\n",
        "        return n\n",
        "    else:\n",
        "        return(fibo(n-1) + fibo(n-2))\n",
        "\n",
        "print(fibo(10))"
      ],
      "execution_count": null,
      "outputs": [
        {
          "output_type": "stream",
          "text": [
            "55\n"
          ],
          "name": "stdout"
        }
      ]
    },
    {
      "cell_type": "markdown",
      "metadata": {
        "id": "ZUGAXP6viecx",
        "colab_type": "text"
      },
      "source": [
        "### Class & Class Inheritance\n",
        "\n",
        "Class name in python is preceded with class keyword followed by a colon ```:```. \n",
        "\n",
        "Classes commonly contains data field to store the data and methods for defining behaviors. \n",
        "\n",
        "Its definitions play some neat tricks with namespaces"
      ]
    },
    {
      "cell_type": "code",
      "metadata": {
        "id": "hKu_lTJeiecx",
        "colab_type": "code",
        "colab": {},
        "outputId": "82dc281c-167c-4c96-cb9d-17ac83177fb9"
      },
      "source": [
        "class S1:\n",
        "    a = 10\n",
        "    \n",
        "S1.a"
      ],
      "execution_count": null,
      "outputs": [
        {
          "output_type": "execute_result",
          "data": {
            "text/plain": [
              "10"
            ]
          },
          "metadata": {
            "tags": []
          },
          "execution_count": 164
        }
      ]
    },
    {
      "cell_type": "code",
      "metadata": {
        "id": "0G3YjWJUiecy",
        "colab_type": "code",
        "colab": {},
        "outputId": "8ebb3f67-9c8e-42e5-ca89-87205012a266"
      },
      "source": [
        "S1.b = 20 # create a new member in class namespace\n",
        "S1.b"
      ],
      "execution_count": null,
      "outputs": [
        {
          "output_type": "execute_result",
          "data": {
            "text/plain": [
              "20"
            ]
          },
          "metadata": {
            "tags": []
          },
          "execution_count": 165
        }
      ]
    },
    {
      "cell_type": "code",
      "metadata": {
        "id": "BLUashhFiecz",
        "colab_type": "code",
        "colab": {},
        "outputId": "8f29fd03-9c47-464c-ace2-93d1eb854823"
      },
      "source": [
        "inst1 = S1() # create instance object from class\n",
        "print(inst1.a)  # instance namespace is different from class namespace\n",
        "\n",
        "inst2 = S1() # create another instance object from class\n",
        "inst2.a = 100 # inst2 instance object namespace is not shared with inst1 instance object\n",
        "print(inst2.a, inst1.a)"
      ],
      "execution_count": null,
      "outputs": [
        {
          "output_type": "stream",
          "text": [
            "10\n",
            "100 10\n"
          ],
          "name": "stdout"
        }
      ]
    },
    {
      "cell_type": "code",
      "metadata": {
        "id": "wxQrx0JEiec0",
        "colab_type": "code",
        "colab": {}
      },
      "source": [
        "# define method in class\n",
        "# 'self' method parameter means instance object created from class itself\n",
        "\n",
        "class Person:\n",
        "    # constructor or initializer\n",
        "    def __init__(self, name): \n",
        "        self.name = name # name is data field also commonly known as instance variables\n",
        "\n",
        "    # method which returns a string\n",
        "    def whoami(self):\n",
        "        return \"You are \" + self.name"
      ],
      "execution_count": null,
      "outputs": []
    },
    {
      "cell_type": "code",
      "metadata": {
        "id": "3o70eSXHiec1",
        "colab_type": "code",
        "colab": {},
        "outputId": "18725d8f-7192-4925-a4b1-369ab89da0fb"
      },
      "source": [
        "person1 = Person(name='your name')  # create instance, automatically call __init__() method first\n",
        "Person.whoami(person1) # unbound method call"
      ],
      "execution_count": null,
      "outputs": [
        {
          "output_type": "execute_result",
          "data": {
            "text/plain": [
              "'You are your name'"
            ]
          },
          "metadata": {
            "tags": []
          },
          "execution_count": 168
        }
      ]
    },
    {
      "cell_type": "code",
      "metadata": {
        "id": "NUC12fNViec2",
        "colab_type": "code",
        "colab": {},
        "outputId": "33171501-16d1-4157-e5ff-a90ba3ef6125"
      },
      "source": [
        "# bound method call\n",
        "person1.whoami()"
      ],
      "execution_count": null,
      "outputs": [
        {
          "output_type": "execute_result",
          "data": {
            "text/plain": [
              "'You are your name'"
            ]
          },
          "metadata": {
            "tags": []
          },
          "execution_count": 169
        }
      ]
    },
    {
      "cell_type": "code",
      "metadata": {
        "id": "qewI4ffmiec3",
        "colab_type": "code",
        "colab": {}
      },
      "source": [
        "# method call inside the class\n",
        "\n",
        "class Myclass:\n",
        "    def __init__(self, v):\n",
        "        self.value = v\n",
        "    def get(self):\n",
        "        return self.value\n",
        "    def count(self):\n",
        "        self.value = self.value + 1  # reference and assign to instance member\n",
        "        return self.get()  # method call"
      ],
      "execution_count": null,
      "outputs": []
    },
    {
      "cell_type": "markdown",
      "metadata": {
        "id": "EXI2_JKEiec5",
        "colab_type": "text"
      },
      "source": [
        "### Class member & Instance member\n",
        "\n",
        "1. class member is defined outside of the methods\n",
        "1. instance member is defined inside method via 'self' as self.inst_member\n",
        "1. class member is created in class namespace\n",
        "1. instance member is created in instance namespace\n",
        "1. class member can be shared in all created instances\n",
        "1. instance member can be referenced from each instance object"
      ]
    },
    {
      "cell_type": "code",
      "metadata": {
        "id": "cXkBsroGiec5",
        "colab_type": "code",
        "colab": {}
      },
      "source": [
        "class Var:\n",
        "    c_mem = 100 # class member\n",
        "    def f(self):\n",
        "        self.i_mem = 200 # instance member\n",
        "    def g(self):\n",
        "        return self.i_mem, self.c_mem"
      ],
      "execution_count": null,
      "outputs": []
    },
    {
      "cell_type": "code",
      "metadata": {
        "id": "it63oVeUiec6",
        "colab_type": "code",
        "colab": {},
        "outputId": "e7473732-3983-4e37-da48-d88ac72332cc"
      },
      "source": [
        "Var.c_mem  # call class member"
      ],
      "execution_count": null,
      "outputs": [
        {
          "output_type": "execute_result",
          "data": {
            "text/plain": [
              "100"
            ]
          },
          "metadata": {
            "tags": []
          },
          "execution_count": 172
        }
      ]
    },
    {
      "cell_type": "code",
      "metadata": {
        "id": "kir-OY4Oiec6",
        "colab_type": "code",
        "colab": {},
        "outputId": "e9057a34-aabd-41fd-8451-10c24933b6d6"
      },
      "source": [
        "v1 = Var()  # create instance\n",
        "v1.c_mem    # call class member via instance object"
      ],
      "execution_count": null,
      "outputs": [
        {
          "output_type": "execute_result",
          "data": {
            "text/plain": [
              "100"
            ]
          },
          "metadata": {
            "tags": []
          },
          "execution_count": 173
        }
      ]
    },
    {
      "cell_type": "code",
      "metadata": {
        "id": "1Cy4on_biec7",
        "colab_type": "code",
        "colab": {},
        "outputId": "d57d0e4b-2cd6-493c-bee1-84d090b0af21"
      },
      "source": [
        "v1.f()  # create instance member i_mem\n",
        "v1.i_mem  # call instance member i_mem"
      ],
      "execution_count": null,
      "outputs": [
        {
          "output_type": "execute_result",
          "data": {
            "text/plain": [
              "200"
            ]
          },
          "metadata": {
            "tags": []
          },
          "execution_count": 174
        }
      ]
    },
    {
      "cell_type": "code",
      "metadata": {
        "id": "3wh3CRHIiec9",
        "colab_type": "code",
        "colab": {}
      },
      "source": [
        "# Class Inheritance\n",
        "\n",
        "class parent:\n",
        "    def __init__(self):\n",
        "        self.parent_attr = 'I am a parent'\n",
        "        \n",
        "    def parent_method(self):\n",
        "        print('call parent method..')\n",
        "        \n",
        "# create child class that inherits from parent class\n",
        "class child(parent):\n",
        "    def __init__(self):\n",
        "        parent.__init__(self)\n",
        "        self.child_attr = 'I am a child'\n",
        "        "
      ],
      "execution_count": null,
      "outputs": []
    },
    {
      "cell_type": "code",
      "metadata": {
        "id": "KxvlRes3iedB",
        "colab_type": "code",
        "colab": {},
        "outputId": "06037d52-477b-47ec-fb84-35b1c3567a2b"
      },
      "source": [
        "# create instance of child\n",
        "child1 = child()\n",
        "\n",
        "# print attributes and call method\n",
        "print(child1.parent_attr)\n",
        "print(child1.child_attr)\n",
        "child1.parent_method()"
      ],
      "execution_count": null,
      "outputs": [
        {
          "output_type": "stream",
          "text": [
            "I am a parent\n",
            "I am a child\n",
            "call parent method..\n"
          ],
          "name": "stdout"
        }
      ]
    },
    {
      "cell_type": "markdown",
      "metadata": {
        "id": "icfD9Hq3iedC",
        "colab_type": "text"
      },
      "source": [
        "In the simplest case, the ```super``` function can be used to replace the explicit call to \n",
        "\n",
        "```python \n",
        "Parent.__init__(self) \n",
        "```"
      ]
    },
    {
      "cell_type": "code",
      "metadata": {
        "id": "Jwr0pFIaiedC",
        "colab_type": "code",
        "colab": {}
      },
      "source": [
        "# the above child class is identical to:\n",
        "class child(parent):\n",
        "    def __init__(self):\n",
        "        super().__init__()  # do not depend on the name of parent class and we don't need to pass 'self' to call this method!\n",
        "        self.child_attr = 'I am a child'"
      ],
      "execution_count": null,
      "outputs": []
    },
    {
      "cell_type": "code",
      "metadata": {
        "id": "7eKVRafriedE",
        "colab_type": "code",
        "colab": {}
      },
      "source": [
        "# When a method in a subclass( == child class) has the same name with the method in parent class, \n",
        "# subclass finds and references the method in its namespace.\n",
        "# see the example below\n",
        "\n",
        "class Base(object):  # equivalent to Base:\n",
        "    def f(self):\n",
        "        self.g()   # call g method\n",
        "    def g(self):\n",
        "        print('call Base class method')\n",
        "\n",
        "# create subclass Derived inherits from Base\n",
        "class Derived(Base):\n",
        "    def g(self):  # same name with parent class method\n",
        "        print('call Derived class method')"
      ],
      "execution_count": null,
      "outputs": []
    },
    {
      "cell_type": "code",
      "metadata": {
        "id": "aCSrKeZKiedE",
        "colab_type": "code",
        "colab": {},
        "outputId": "ca620c88-0c0d-4187-a3c3-149409222dfe"
      },
      "source": [
        "b = Base()\n",
        "b.f()"
      ],
      "execution_count": null,
      "outputs": [
        {
          "output_type": "stream",
          "text": [
            "call Base class method\n"
          ],
          "name": "stdout"
        }
      ]
    },
    {
      "cell_type": "code",
      "metadata": {
        "id": "SPDtqPikiedH",
        "colab_type": "code",
        "colab": {},
        "outputId": "4ccb30e0-0f9b-4d7b-c0a6-856dd7ab8493"
      },
      "source": [
        "a = Derived()\n",
        "a.f()"
      ],
      "execution_count": null,
      "outputs": [
        {
          "output_type": "stream",
          "text": [
            "call Derived class method\n"
          ],
          "name": "stdout"
        }
      ]
    },
    {
      "cell_type": "code",
      "metadata": {
        "id": "rSbajXShiedI",
        "colab_type": "code",
        "colab": {}
      },
      "source": [
        "# Multiple Inheritance without super\n",
        "\n",
        "class B:\n",
        "    def b(self):\n",
        "        print('class B')\n",
        "\n",
        "\n",
        "class C:\n",
        "    def c(self):\n",
        "        print('class C')\n",
        "\n",
        "\n",
        "class D(B, C):\n",
        "    def d(self):\n",
        "        print('class D')"
      ],
      "execution_count": null,
      "outputs": []
    },
    {
      "cell_type": "code",
      "metadata": {
        "id": "V45wDrX_iedJ",
        "colab_type": "code",
        "colab": {},
        "outputId": "7b3063ee-6dec-48bd-ab15-b61c5f3605b5"
      },
      "source": [
        "d = D()\n",
        "d.b(); d.c(); d.d()"
      ],
      "execution_count": null,
      "outputs": [
        {
          "output_type": "stream",
          "text": [
            "class B\n",
            "class C\n",
            "class D\n"
          ],
          "name": "stdout"
        }
      ]
    },
    {
      "cell_type": "code",
      "metadata": {
        "id": "m8FbVWAMiedK",
        "colab_type": "code",
        "colab": {},
        "outputId": "9e023890-e742-41cd-f895-b8461980f2d6"
      },
      "source": [
        "# What's happening when excuting code with multiple & multilevel inheritance without super method ?\n",
        "# see the examples below\n",
        "class A:\n",
        "    def save(self):\n",
        "        print('A save called')\n",
        "        \n",
        "class B(A):\n",
        "    def save(self):\n",
        "        print('B save called')\n",
        "        A.save(self)\n",
        "        \n",
        "class C(A):\n",
        "    def save(self):\n",
        "        print('C save called')\n",
        "        A.save(self)\n",
        "        \n",
        "class D(B, C):\n",
        "    def save(self):\n",
        "        print('D save called')\n",
        "        B.save(self)\n",
        "        C.save(self)\n",
        "        \n",
        "d = D()\n",
        "d.save()  # induce redundant save!"
      ],
      "execution_count": null,
      "outputs": [
        {
          "output_type": "stream",
          "text": [
            "D save called\n",
            "B save called\n",
            "A save called\n",
            "C save called\n",
            "A save called\n"
          ],
          "name": "stdout"
        }
      ]
    },
    {
      "cell_type": "code",
      "metadata": {
        "id": "QA0Xj_PGiedL",
        "colab_type": "code",
        "colab": {},
        "outputId": "576a3a14-f930-4929-ecdd-e9493bd38a24"
      },
      "source": [
        "# with super method:\n",
        "class A:\n",
        "    def save(self):\n",
        "        print('A save called')\n",
        "        \n",
        "class B(A):\n",
        "    def save(self):\n",
        "        print('B save called')\n",
        "        super().save()  # prevent unwanted call\n",
        "        \n",
        "class C(A):\n",
        "    def save(self):\n",
        "        print('C save called')\n",
        "        super().save()  # prevent unwanted call\n",
        "        \n",
        "class D(B, C):\n",
        "    def save(self):\n",
        "        print('D save called')\n",
        "        super().save()\n",
        "        \n",
        "d = D()\n",
        "d.save()  "
      ],
      "execution_count": null,
      "outputs": [
        {
          "output_type": "stream",
          "text": [
            "D save called\n",
            "B save called\n",
            "C save called\n",
            "A save called\n"
          ],
          "name": "stdout"
        }
      ]
    },
    {
      "cell_type": "markdown",
      "metadata": {
        "id": "On4NPd5KiedO",
        "colab_type": "text"
      },
      "source": [
        "**References** \n",
        "\n",
        "https://thepythonguru.com/\n",
        "\n",
        "https://www.datacamp.com/community/tutorials/\n",
        "\n",
        "https://docs.python.org/3/\n",
        "\n",
        "https://www.programiz.com/python-programming\n",
        "\n",
        "https://www.programiz.com/python-programming/examples \n",
        "\n",
        "https://python.swaroopch.com/oop.html\n",
        "\n",
        "파이썬3 바이블 - 이강성 저, 프리렉(이한디지털리)"
      ]
    },
    {
      "cell_type": "code",
      "metadata": {
        "id": "AK-FvoFniedO",
        "colab_type": "code",
        "colab": {}
      },
      "source": [
        ""
      ],
      "execution_count": null,
      "outputs": []
    }
  ]
}