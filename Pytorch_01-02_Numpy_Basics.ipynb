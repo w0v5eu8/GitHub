{
 "cells": [
  {
   "cell_type": "markdown",
   "metadata": {
    "colab_type": "text",
    "id": "BtdMyK3VjZMT"
   },
   "source": [
    "## **Numpy Basics**\n",
    "1. Numpy is the core library for scientific computing in Python and is used to perform computations on multi-dimensional data easily and effectively. \n",
    "1. Numpy provides a new data structure called arrays which allow efficient vector and matrix operations and a number of linear algebra operations"
   ]
  },
  {
   "cell_type": "markdown",
   "metadata": {
    "colab_type": "text",
    "id": "9WtAr1qFjgBc"
   },
   "source": [
    "**Convert a list into an array using numpy**"
   ]
  },
  {
   "cell_type": "code",
   "execution_count": null,
   "metadata": {
    "colab": {
     "base_uri": "https://localhost:8080/",
     "height": 35
    },
    "colab_type": "code",
    "id": "ZtQUge1Ij6U_",
    "outputId": "b56b447b-c3ea-4d8e-af79-d5f93db1ee8a"
   },
   "outputs": [],
   "source": [
    "import numpy as np #Import numpy package\n",
    "\n",
    "a_list = [1,2,3,4]\n",
    "a = np.array(a_list) #Convert list to numpy array\n",
    "a"
   ]
  },
  {
   "cell_type": "markdown",
   "metadata": {},
   "source": [
    "**Scalar, Vector, Matrix (Tensor)**"
   ]
  },
  {
   "cell_type": "code",
   "execution_count": null,
   "metadata": {},
   "outputs": [],
   "source": [
    "a = np.array(1)  # define scalar\n",
    "print('a\\n', a.__repr__())\n",
    "print('shape of a: ', a.shape)\n",
    "print('dimension of a: ', a.ndim)\n",
    "\n",
    "b = np.array([1, 2, 3, 4, 5]) # define vector\n",
    "print('b\\n', b.__repr__())\n",
    "print('shape of b: ', b.shape)\n",
    "print('dimension of b: ', b.ndim)\n",
    "\n",
    "c = np.array([[1, 2, 3], [4, 5, 6]]) # define matrix\n",
    "print('c\\n',c.__repr__())\n",
    "print('shape of c: ', c.shape)\n",
    "print('dimension of c: ', c.ndim)"
   ]
  },
  {
   "cell_type": "markdown",
   "metadata": {
    "colab_type": "text",
    "id": "v0O7ya42kHRo"
   },
   "source": [
    "**Create array obejects using arange(), zeros(), ones(), linspace() methods**"
   ]
  },
  {
   "cell_type": "code",
   "execution_count": null,
   "metadata": {
    "colab": {
     "base_uri": "https://localhost:8080/",
     "height": 71
    },
    "colab_type": "code",
    "id": "dWRqwhTBkOCY",
    "outputId": "fd02a28a-059d-4ccd-f5fd-9c51de089a60"
   },
   "outputs": [],
   "source": [
    "#Numpy also provides many methods to create arrays.\n",
    "\n",
    "a = np.arange(0, 10, 1)\n",
    "\n",
    "print('created from .arange() method: ', a)\n",
    "\n",
    "a = np.zeros(10)\n",
    "print('created from .zeros() method: ', a)\n",
    "\n",
    "a = np.ones(10)\n",
    "print('created from .ones() method: ', a)\n",
    "\n",
    "a = np.linspace(0,2,9)\n",
    "print('created from .linspace() method: ', a)"
   ]
  },
  {
   "cell_type": "code",
   "execution_count": null,
   "metadata": {
    "scrolled": true
   },
   "outputs": [],
   "source": [
    "# Convert datatype of elements\n",
    "a = np.arange(10)\n",
    "print(a.dtype)   # original datatype\n",
    "\n",
    "b = a.astype(np.float) # convert to float\n",
    "print(b.dtype)"
   ]
  },
  {
   "cell_type": "code",
   "execution_count": null,
   "metadata": {
    "colab": {
     "base_uri": "https://localhost:8080/",
     "height": 197
    },
    "colab_type": "code",
    "id": "Trl2ehzixpXm",
    "outputId": "23ace893-1257-4ac6-b7f7-8fab63cf3f15"
   },
   "outputs": [],
   "source": [
    "# We can also make multidimensional arrays.\n",
    "\n",
    "np.random.seed(0) # random seed for reproducibility\n",
    "a = np.arange(16).reshape(2,8) #reshape function gives a new shape to an array without changing its data\n",
    "b = np.ones ((2,8))\n",
    "c = np.random.random((2,8)) #Create an array randomly\n",
    "\n",
    "print('created from .reshape() method: \\n', a.__repr__())\n",
    "print()\n",
    "print('created from .ones() method: \\n', b.__repr__())\n",
    "print()\n",
    "print('created from .random.random() method: \\n', c.__repr__())"
   ]
  },
  {
   "cell_type": "code",
   "execution_count": null,
   "metadata": {
    "colab": {
     "base_uri": "https://localhost:8080/",
     "height": 323
    },
    "colab_type": "code",
    "id": "zZFijUtZ5P99",
    "outputId": "dfe68284-29b5-4290-d72f-968bdd9ab70b"
   },
   "outputs": [],
   "source": [
    "#You can check the dimension or size of arrays\n",
    "a = np.random.random((2, 4, 5))  # dimensional array\n",
    "a"
   ]
  },
  {
   "cell_type": "code",
   "execution_count": null,
   "metadata": {
    "colab": {
     "base_uri": "https://localhost:8080/",
     "height": 323
    },
    "colab_type": "code",
    "id": "zZFijUtZ5P99",
    "outputId": "dfe68284-29b5-4290-d72f-968bdd9ab70b"
   },
   "outputs": [],
   "source": [
    "print('dimension of array: ', a.ndim)\n",
    "print('shape of array', a.shape) \n",
    "print('number of row: ', a.shape[0])\n",
    "print('number of column: ', a.shape[1])\n",
    "print('total number of elements in array: ', a.size)\n",
    "print('data type of elements: ', a.dtype)"
   ]
  },
  {
   "cell_type": "code",
   "execution_count": null,
   "metadata": {},
   "outputs": [],
   "source": [
    "# 4 dimensional array\n",
    "b = np.random.random((2, 3, 4, 5))\n",
    "print('b:\\n', b.__repr__())"
   ]
  },
  {
   "cell_type": "markdown",
   "metadata": {
    "colab_type": "text",
    "id": "Muu34ANY5aNb"
   },
   "source": [
    "**Indexing & Slicing**"
   ]
  },
  {
   "cell_type": "code",
   "execution_count": null,
   "metadata": {
    "colab": {
     "base_uri": "https://localhost:8080/",
     "height": 71
    },
    "colab_type": "code",
    "id": "Q1p5MNGlww4-",
    "outputId": "65595e68-20ec-4d01-e717-b71654959354"
   },
   "outputs": [],
   "source": [
    "#In a similar way to Python lists, numpy arrays can be indexed.\n",
    "a = np.ones(5)\n",
    "a[0] = 6\n",
    "a[4] = 2\n",
    "a"
   ]
  },
  {
   "cell_type": "code",
   "execution_count": null,
   "metadata": {
    "colab": {
     "base_uri": "https://localhost:8080/",
     "height": 71
    },
    "colab_type": "code",
    "id": "Q1p5MNGlww4-",
    "outputId": "65595e68-20ec-4d01-e717-b71654959354"
   },
   "outputs": [],
   "source": [
    "a[-1]  # -1 indicates last element"
   ]
  },
  {
   "cell_type": "code",
   "execution_count": null,
   "metadata": {
    "colab": {
     "base_uri": "https://localhost:8080/",
     "height": 71
    },
    "colab_type": "code",
    "id": "Q1p5MNGlww4-",
    "outputId": "65595e68-20ec-4d01-e717-b71654959354",
    "scrolled": true
   },
   "outputs": [],
   "source": [
    "a[0:-1] # include 0 index and exclude -1 (last) index of element"
   ]
  },
  {
   "cell_type": "code",
   "execution_count": null,
   "metadata": {},
   "outputs": [],
   "source": [
    "# Create (3, 4) shape of tensor\n",
    "a = np.arange(1, 13).reshape(3, 4)\n",
    "a"
   ]
  },
  {
   "cell_type": "code",
   "execution_count": null,
   "metadata": {},
   "outputs": [],
   "source": [
    "a[0] # indexing the first row "
   ]
  },
  {
   "cell_type": "code",
   "execution_count": null,
   "metadata": {},
   "outputs": [],
   "source": [
    "a[0, 1] # indexing second element of the first row"
   ]
  },
  {
   "cell_type": "code",
   "execution_count": null,
   "metadata": {},
   "outputs": [],
   "source": [
    "a[0, 1:3] # slicing the first row from 1 to 3 (exclusive)"
   ]
  },
  {
   "cell_type": "code",
   "execution_count": null,
   "metadata": {},
   "outputs": [],
   "source": [
    "a[0:3:2, 1:4:2] # slicing with respect to both 1 , 2 - dimensional elements"
   ]
  },
  {
   "cell_type": "code",
   "execution_count": null,
   "metadata": {
    "colab": {
     "base_uri": "https://localhost:8080/",
     "height": 89
    },
    "colab_type": "code",
    "id": "JXd5uFk6zeAr",
    "outputId": "6576dba5-139e-4159-8c8e-0a3e683ed77e",
    "scrolled": true
   },
   "outputs": [],
   "source": [
    "# slicing with multi-dimensional array\n",
    "a = np.arange(30).reshape(2, 3, 5)\n",
    "a"
   ]
  },
  {
   "cell_type": "code",
   "execution_count": null,
   "metadata": {},
   "outputs": [],
   "source": [
    "a[0] # first matrix element"
   ]
  },
  {
   "cell_type": "code",
   "execution_count": null,
   "metadata": {},
   "outputs": [],
   "source": [
    "a[0, 1, :] # second row of first matrix element"
   ]
  },
  {
   "cell_type": "code",
   "execution_count": null,
   "metadata": {},
   "outputs": [],
   "source": [
    "a[0, :, 2] # third column of first matrix element"
   ]
  },
  {
   "cell_type": "code",
   "execution_count": null,
   "metadata": {
    "scrolled": true
   },
   "outputs": [],
   "source": [
    "a[1, 0:3:2, 1:4:2] # slicing with respect to both 2 , 3 - dimensional elements"
   ]
  },
  {
   "cell_type": "code",
   "execution_count": null,
   "metadata": {},
   "outputs": [],
   "source": [
    "# add an additional dimension\n",
    "a[None].shape  # add extra dimension in first dim"
   ]
  },
  {
   "cell_type": "code",
   "execution_count": null,
   "metadata": {},
   "outputs": [],
   "source": [
    "a[:, None].shape # add in second dim"
   ]
  },
  {
   "cell_type": "code",
   "execution_count": null,
   "metadata": {},
   "outputs": [],
   "source": [
    "a[..., None].shape  # add in last dim"
   ]
  },
  {
   "cell_type": "code",
   "execution_count": null,
   "metadata": {},
   "outputs": [],
   "source": [
    "a[..., None, :].shape  # add in second last dim"
   ]
  },
  {
   "cell_type": "markdown",
   "metadata": {
    "colab_type": "text",
    "id": "ZdBNp8Gn5ewE"
   },
   "source": [
    "**Numpy Operations**"
   ]
  },
  {
   "cell_type": "code",
   "execution_count": null,
   "metadata": {
    "colab": {
     "base_uri": "https://localhost:8080/",
     "height": 143
    },
    "colab_type": "code",
    "id": "58MCYFcTjbUH",
    "outputId": "d1e59d47-b98a-49ec-9fe6-e50fd91c1538"
   },
   "outputs": [],
   "source": [
    "# Basic mathematical functions in the numpy module are available and operate elementwise on arrays.\n",
    "# support all basic numerical operations such as +. -. *, /, ** ..\n",
    "a = np.arange(0,3,0.5)\n",
    "b = np.arange(1,4,0.5)\n",
    "print('a:\\n', a.__repr__())\n",
    "print('b:\\n', b.__repr__(), end='\\n')\n",
    "\n",
    "print('array a: ', a)\n",
    "print('a + 5: ', a + 5)\n",
    "print('a^2: ', a ** 2)\n",
    "print('cos(a): ', np.cos(a))\n",
    "print('logical operation of a < 1: ', a < 1)"
   ]
  },
  {
   "cell_type": "code",
   "execution_count": null,
   "metadata": {
    "colab": {
     "base_uri": "https://localhost:8080/",
     "height": 143
    },
    "colab_type": "code",
    "id": "58MCYFcTjbUH",
    "outputId": "d1e59d47-b98a-49ec-9fe6-e50fd91c1538"
   },
   "outputs": [],
   "source": [
    "#Unlike MATLAB, operator * is not matrix multiplication but elementwise multiplication.\n",
    "print('array a: ', a)\n",
    "print('array b: ', b)\n",
    "a * b"
   ]
  },
  {
   "cell_type": "code",
   "execution_count": null,
   "metadata": {
    "colab": {
     "base_uri": "https://localhost:8080/",
     "height": 143
    },
    "colab_type": "code",
    "id": "58MCYFcTjbUH",
    "outputId": "d1e59d47-b98a-49ec-9fe6-e50fd91c1538"
   },
   "outputs": [],
   "source": [
    "# Instead, we use the dot function to compute inner products of vectors, \n",
    "np.dot(a, b)"
   ]
  },
  {
   "cell_type": "code",
   "execution_count": null,
   "metadata": {
    "colab": {
     "base_uri": "https://localhost:8080/",
     "height": 125
    },
    "colab_type": "code",
    "id": "WuwHj6LKyDdl",
    "outputId": "03068c04-091c-4a46-defd-181b4cf7f9e0"
   },
   "outputs": [],
   "source": [
    "#You can perform matrix operations\n",
    "\n",
    "a = np.array([[2,5],[1,2]])\n",
    "b = np.array([[2,1],[5,7]])\n",
    "\n",
    "np.matmul(a,b) # matrix multiplication"
   ]
  },
  {
   "cell_type": "code",
   "execution_count": null,
   "metadata": {},
   "outputs": [],
   "source": [
    "# you can also use np.dot() method and @ keyword to compute matrix multiplication (@ works in python3.x version)\n",
    "np.dot(a, b)"
   ]
  },
  {
   "cell_type": "code",
   "execution_count": null,
   "metadata": {},
   "outputs": [],
   "source": [
    "a@b"
   ]
  },
  {
   "cell_type": "code",
   "execution_count": null,
   "metadata": {
    "colab": {
     "base_uri": "https://localhost:8080/",
     "height": 125
    },
    "colab_type": "code",
    "id": "WuwHj6LKyDdl",
    "outputId": "03068c04-091c-4a46-defd-181b4cf7f9e0"
   },
   "outputs": [],
   "source": [
    "a.transpose() #transpose the array"
   ]
  },
  {
   "cell_type": "code",
   "execution_count": null,
   "metadata": {
    "colab": {
     "base_uri": "https://localhost:8080/",
     "height": 161
    },
    "colab_type": "code",
    "id": "pNH5HhzM5u2F",
    "outputId": "913bc47c-6d8c-4901-e763-c399e5ea26f3"
   },
   "outputs": [],
   "source": [
    "c = np.arange(18).reshape(3,6)\n",
    "c"
   ]
  },
  {
   "cell_type": "code",
   "execution_count": null,
   "metadata": {
    "colab": {
     "base_uri": "https://localhost:8080/",
     "height": 161
    },
    "colab_type": "code",
    "id": "pNH5HhzM5u2F",
    "outputId": "913bc47c-6d8c-4901-e763-c399e5ea26f3"
   },
   "outputs": [],
   "source": [
    "# using np.ndarray.method()\n",
    "print('max value of each column: ', c.max(axis = 0)) # max of each column\n",
    "print('min value of each row:', c.min(axis = 1)) # min of each row\n",
    "print('sums of each row:', c.sum(axis = 1)) # sum of each row\n",
    "print('sums of all elements:', c.sum()) # sum of all elements\n",
    "print('max value of array (matrix) c:', c.max()) # max of c"
   ]
  },
  {
   "cell_type": "code",
   "execution_count": null,
   "metadata": {},
   "outputs": [],
   "source": [
    "# you can also use np.method()\n",
    "np.sum(c, axis=0)"
   ]
  },
  {
   "cell_type": "code",
   "execution_count": null,
   "metadata": {},
   "outputs": [],
   "source": [
    "np.max(c)"
   ]
  },
  {
   "cell_type": "code",
   "execution_count": null,
   "metadata": {},
   "outputs": [],
   "source": [
    "# take operation while keeping dimension\n",
    "np.sum(c, axis=0, keepdims=True)"
   ]
  },
  {
   "cell_type": "code",
   "execution_count": null,
   "metadata": {},
   "outputs": [],
   "source": [
    "np.sum(c, axis=1, keepdims=True)"
   ]
  },
  {
   "cell_type": "markdown",
   "metadata": {
    "colab_type": "text",
    "id": "wm5gY8i1pjZ1"
   },
   "source": [
    "**Broadcasting**"
   ]
  },
  {
   "cell_type": "code",
   "execution_count": null,
   "metadata": {
    "colab": {
     "base_uri": "https://localhost:8080/",
     "height": 125
    },
    "colab_type": "code",
    "id": "Q2wGIuKzpoAW",
    "outputId": "5465087b-e2e8-422a-f2f3-9cebce926522"
   },
   "outputs": [],
   "source": [
    "#Broadcasting is a powerful mechanism that allows numpy to work with arrays of different shapes when computing mathematical operations.\n",
    "\n",
    "a = np.arange(18).reshape((3,6))\n",
    "a # (3, 6) shape"
   ]
  },
  {
   "cell_type": "code",
   "execution_count": null,
   "metadata": {
    "colab": {
     "base_uri": "https://localhost:8080/",
     "height": 125
    },
    "colab_type": "code",
    "id": "Q2wGIuKzpoAW",
    "outputId": "5465087b-e2e8-422a-f2f3-9cebce926522"
   },
   "outputs": [],
   "source": [
    "a * 5  # multiply with scalar -> convert to (3, 6) shape"
   ]
  },
  {
   "cell_type": "code",
   "execution_count": null,
   "metadata": {
    "colab": {
     "base_uri": "https://localhost:8080/",
     "height": 89
    },
    "colab_type": "code",
    "id": "s2wnXWK_q8wu",
    "outputId": "83445870-a8af-4279-97d0-85954e9d8e3c"
   },
   "outputs": [],
   "source": [
    "a * np.arange(6) # multiply with (6) shape -> also convert to (3, 6) shape"
   ]
  },
  {
   "cell_type": "code",
   "execution_count": null,
   "metadata": {
    "colab": {
     "base_uri": "https://localhost:8080/",
     "height": 125
    },
    "colab_type": "code",
    "id": "8nAH_YVQq_xV",
    "outputId": "e8a39468-9642-4088-8088-4fe715a217cb"
   },
   "outputs": [],
   "source": [
    "b = np.arange(6)\n",
    "print('b\\n', b.__repr__())  # (6,) shape\n",
    "c = np.arange(3).reshape(3, 1)\n",
    "print('c\\n', c.__repr__())  # (3, 1) shape"
   ]
  },
  {
   "cell_type": "code",
   "execution_count": null,
   "metadata": {
    "colab": {
     "base_uri": "https://localhost:8080/",
     "height": 125
    },
    "colab_type": "code",
    "id": "8nAH_YVQq_xV",
    "outputId": "e8a39468-9642-4088-8088-4fe715a217cb"
   },
   "outputs": [],
   "source": [
    "b * c"
   ]
  },
  {
   "cell_type": "code",
   "execution_count": null,
   "metadata": {},
   "outputs": [],
   "source": [
    "# Broadcasting with multidimensional arrays\n",
    "a = np.arange(15).reshape(5, 1, 3, 1)\n",
    "b = np.arange(8).reshape(2, 1, 4)\n",
    "print('shape of a: ', a.shape)\n",
    "print('shape of b: ', b.shape)"
   ]
  },
  {
   "cell_type": "code",
   "execution_count": null,
   "metadata": {},
   "outputs": [],
   "source": [
    "# check dimension of a * b\n",
    "(a * b).shape"
   ]
  },
  {
   "cell_type": "code",
   "execution_count": null,
   "metadata": {},
   "outputs": [],
   "source": [
    "# Question: How machanism of broadcasting works?\n",
    "# does it work for (5, 1, 3, 2) with (2, 1, 4) shape of tensor? -> No (why?)"
   ]
  },
  {
   "cell_type": "markdown",
   "metadata": {
    "colab_type": "text",
    "id": "mBZ_TVnpkll6"
   },
   "source": [
    "**Stacking Arrays**"
   ]
  },
  {
   "cell_type": "code",
   "execution_count": null,
   "metadata": {
    "colab": {
     "base_uri": "https://localhost:8080/",
     "height": 287
    },
    "colab_type": "code",
    "id": "g8wPHoLg6O3E",
    "outputId": "bcc1d291-a89d-468b-c7de-6058194d3b48"
   },
   "outputs": [],
   "source": [
    "#You can stack arrays horizontally or vertically\n",
    "\n",
    "a = np.arange(12).reshape(3, 4)\n",
    "print('a: \\n', a.__repr__())\n",
    "b = np.ones((2, 4))\n",
    "print('b: \\n', b.__repr__())\n",
    "c = np.ones((3, 2))\n",
    "print('c: \\n', c.__repr__())"
   ]
  },
  {
   "cell_type": "code",
   "execution_count": null,
   "metadata": {
    "colab": {
     "base_uri": "https://localhost:8080/",
     "height": 287
    },
    "colab_type": "code",
    "id": "g8wPHoLg6O3E",
    "outputId": "bcc1d291-a89d-468b-c7de-6058194d3b48"
   },
   "outputs": [],
   "source": [
    "np.vstack((a,b)) # stack array vertically"
   ]
  },
  {
   "cell_type": "code",
   "execution_count": null,
   "metadata": {
    "colab": {
     "base_uri": "https://localhost:8080/",
     "height": 287
    },
    "colab_type": "code",
    "id": "g8wPHoLg6O3E",
    "outputId": "bcc1d291-a89d-468b-c7de-6058194d3b48"
   },
   "outputs": [],
   "source": [
    "np.hstack((a,c)) # stack array horizontally"
   ]
  },
  {
   "cell_type": "markdown",
   "metadata": {},
   "source": [
    "**Boolean Array Indexing (Masking)**"
   ]
  },
  {
   "cell_type": "code",
   "execution_count": null,
   "metadata": {},
   "outputs": [],
   "source": [
    "a = np.arange(1, 10).reshape(3, 3)\n",
    "print('a: \\n', a.__repr__())"
   ]
  },
  {
   "cell_type": "code",
   "execution_count": null,
   "metadata": {},
   "outputs": [],
   "source": [
    "# Support element-wise logical operation (return as True or False)\n",
    "even = a % 2 == 0\n",
    "print(even.__repr__())"
   ]
  },
  {
   "cell_type": "code",
   "execution_count": null,
   "metadata": {},
   "outputs": [],
   "source": [
    "# indexing the elements corresponding to its True boolean index and return as a rank 1 array \n",
    "a[even]"
   ]
  },
  {
   "cell_type": "markdown",
   "metadata": {
    "colab_type": "text",
    "id": "YWl2YSMh9jY3"
   },
   "source": [
    "**Copy in numpy**"
   ]
  },
  {
   "cell_type": "code",
   "execution_count": null,
   "metadata": {
    "colab": {
     "base_uri": "https://localhost:8080/",
     "height": 143
    },
    "colab_type": "code",
    "id": "5Z9CfjBk8pVU",
    "outputId": "63e1fa11-227f-4463-c937-80f925377b0e"
   },
   "outputs": [],
   "source": [
    "#There are 3 cases of copying ndarray in numpy\n",
    "\n",
    "#Case 1\n",
    "\n",
    "a = np.zeros((2,2))\n",
    "b = a #No copy at all # Share both the data and properties(e.g., dimension of array)\n",
    "print('b: \\n', b.__repr__())\n",
    "\n",
    "b[1,1] = 1\n",
    "print('b: \\n', b.__repr__())\n",
    "print('a: \\n', a.__repr__()) # a is also changed\n",
    "\n",
    "\n",
    "b.shape = (1,4)\n",
    "print('shape of a: ', a.shape) #The shape of a is also changed"
   ]
  },
  {
   "cell_type": "code",
   "execution_count": null,
   "metadata": {
    "colab": {
     "base_uri": "https://localhost:8080/",
     "height": 143
    },
    "colab_type": "code",
    "id": "gf89X3s-0KyY",
    "outputId": "e48ac95f-1f30-4b94-d1c3-49a9b82ee3c6"
   },
   "outputs": [],
   "source": [
    "#Case 2 : Shallow copy\n",
    "\n",
    "a = np.zeros((2,2))\n",
    "b = a.view() #Shallow copy # Share the data but not properties(e.g., dimension of array)\n",
    "print('b: \\n', b.__repr__())\n",
    "\n",
    "b[1,1] = 1\n",
    "print('b: \\n', b.__repr__())\n",
    "print('a: \\n', a.__repr__()) # a is also changed!!\n",
    "\n",
    "b.shape = (1,4)\n",
    "print('shape of a: ', a.shape) #The shape of a is not changed"
   ]
  },
  {
   "cell_type": "code",
   "execution_count": null,
   "metadata": {
    "colab": {
     "base_uri": "https://localhost:8080/",
     "height": 125
    },
    "colab_type": "code",
    "id": "hRSify8d9qNT",
    "outputId": "7112bacb-070b-4916-a299-808d1af0e9b9"
   },
   "outputs": [],
   "source": [
    "#Case 3 : Deep copy\n",
    "\n",
    "a=np.zeros((2,2))\n",
    "c = a.copy() #Deep copy # Create an independet variable not sharing both the data and properties\n",
    "print('c: \\n', c.__repr__())\n",
    "\n",
    "c[1,1] =1\n",
    "print('c: \\n', c.__repr__())\n",
    "print('a: \\n', a.__repr__()) # a is not changed"
   ]
  },
  {
   "cell_type": "markdown",
   "metadata": {
    "colab_type": "text",
    "id": "Pkgk-rayeCZa"
   },
   "source": [
    "### References\n",
    "\n",
    "https://numpy.org/\n",
    "\n",
    "https://cs231n.github.io/python-numpy-tutorial/#numpy\n",
    "\n",
    "http://aikorea.org/cs231n/python-numpy-tutorial/\n",
    "\n",
    "https://nbviewer.jupyter.org/gist/FinanceData/274d1a051b8ef10379b35b3fa72dd931"
   ]
  },
  {
   "cell_type": "code",
   "execution_count": null,
   "metadata": {
    "colab": {},
    "colab_type": "code",
    "id": "Nx-fsdh_-g16"
   },
   "outputs": [],
   "source": []
  }
 ],
 "metadata": {
  "colab": {
   "collapsed_sections": [],
   "name": "Numpy_Exercise.ipynb",
   "provenance": []
  },
  "kernelspec": {
   "display_name": "Python 3",
   "language": "python",
   "name": "python3"
  },
  "language_info": {
   "codemirror_mode": {
    "name": "ipython",
    "version": 3
   },
   "file_extension": ".py",
   "mimetype": "text/x-python",
   "name": "python",
   "nbconvert_exporter": "python",
   "pygments_lexer": "ipython3",
   "version": "3.6.9"
  }
 },
 "nbformat": 4,
 "nbformat_minor": 1
}
